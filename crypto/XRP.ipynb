{
 "cells": [
  {
   "cell_type": "markdown",
   "metadata": {},
   "source": [
    "## XRP Research\n",
    "---\n",
    "**XRP** is a *cryptocurrency* which we aim to understand and trade against. We will be the Market Participant and trade XRP whenever we identify any possible Arbritrage Opportunities.\n",
    "\n",
    "Let's have a look at the trading data of **XRP** from May 2021 to May 2022."
   ]
  },
  {
   "cell_type": "code",
   "execution_count": 53,
   "metadata": {},
   "outputs": [
    {
     "data": {
      "text/html": [
       "<div>\n",
       "<style scoped>\n",
       "    .dataframe tbody tr th:only-of-type {\n",
       "        vertical-align: middle;\n",
       "    }\n",
       "\n",
       "    .dataframe tbody tr th {\n",
       "        vertical-align: top;\n",
       "    }\n",
       "\n",
       "    .dataframe thead th {\n",
       "        text-align: right;\n",
       "    }\n",
       "</style>\n",
       "<table border=\"1\" class=\"dataframe\">\n",
       "  <thead>\n",
       "    <tr style=\"text-align: right;\">\n",
       "      <th></th>\n",
       "      <th>Date</th>\n",
       "      <th>Open</th>\n",
       "      <th>High</th>\n",
       "      <th>Low</th>\n",
       "      <th>Close</th>\n",
       "      <th>Adj Close</th>\n",
       "      <th>Volume</th>\n",
       "    </tr>\n",
       "  </thead>\n",
       "  <tbody>\n",
       "    <tr>\n",
       "      <th>0</th>\n",
       "      <td>2021-05-29</td>\n",
       "      <td>0.899495</td>\n",
       "      <td>0.939792</td>\n",
       "      <td>0.795070</td>\n",
       "      <td>0.831788</td>\n",
       "      <td>0.831788</td>\n",
       "      <td>5156278121</td>\n",
       "    </tr>\n",
       "    <tr>\n",
       "      <th>1</th>\n",
       "      <td>2021-05-30</td>\n",
       "      <td>0.831994</td>\n",
       "      <td>0.930127</td>\n",
       "      <td>0.799825</td>\n",
       "      <td>0.906609</td>\n",
       "      <td>0.906609</td>\n",
       "      <td>4077064725</td>\n",
       "    </tr>\n",
       "    <tr>\n",
       "      <th>2</th>\n",
       "      <td>2021-05-31</td>\n",
       "      <td>0.906384</td>\n",
       "      <td>1.049022</td>\n",
       "      <td>0.882556</td>\n",
       "      <td>1.046584</td>\n",
       "      <td>1.046584</td>\n",
       "      <td>6277821474</td>\n",
       "    </tr>\n",
       "    <tr>\n",
       "      <th>3</th>\n",
       "      <td>2021-06-01</td>\n",
       "      <td>1.042102</td>\n",
       "      <td>1.099639</td>\n",
       "      <td>0.979337</td>\n",
       "      <td>1.011001</td>\n",
       "      <td>1.011001</td>\n",
       "      <td>5606414479</td>\n",
       "    </tr>\n",
       "    <tr>\n",
       "      <th>4</th>\n",
       "      <td>2021-06-02</td>\n",
       "      <td>1.011214</td>\n",
       "      <td>1.049746</td>\n",
       "      <td>0.981365</td>\n",
       "      <td>1.024400</td>\n",
       "      <td>1.024400</td>\n",
       "      <td>3598008182</td>\n",
       "    </tr>\n",
       "    <tr>\n",
       "      <th>...</th>\n",
       "      <td>...</td>\n",
       "      <td>...</td>\n",
       "      <td>...</td>\n",
       "      <td>...</td>\n",
       "      <td>...</td>\n",
       "      <td>...</td>\n",
       "      <td>...</td>\n",
       "    </tr>\n",
       "    <tr>\n",
       "      <th>361</th>\n",
       "      <td>2022-05-25</td>\n",
       "      <td>0.408700</td>\n",
       "      <td>0.412966</td>\n",
       "      <td>0.396760</td>\n",
       "      <td>0.405785</td>\n",
       "      <td>0.405785</td>\n",
       "      <td>1587278448</td>\n",
       "    </tr>\n",
       "    <tr>\n",
       "      <th>362</th>\n",
       "      <td>2022-05-26</td>\n",
       "      <td>0.405799</td>\n",
       "      <td>0.410119</td>\n",
       "      <td>0.380723</td>\n",
       "      <td>0.393170</td>\n",
       "      <td>0.393170</td>\n",
       "      <td>2091610974</td>\n",
       "    </tr>\n",
       "    <tr>\n",
       "      <th>363</th>\n",
       "      <td>2022-05-27</td>\n",
       "      <td>0.393076</td>\n",
       "      <td>0.401280</td>\n",
       "      <td>0.378166</td>\n",
       "      <td>0.381787</td>\n",
       "      <td>0.381787</td>\n",
       "      <td>1927217638</td>\n",
       "    </tr>\n",
       "    <tr>\n",
       "      <th>364</th>\n",
       "      <td>2022-05-28</td>\n",
       "      <td>0.381732</td>\n",
       "      <td>0.386767</td>\n",
       "      <td>0.381716</td>\n",
       "      <td>0.385426</td>\n",
       "      <td>0.385426</td>\n",
       "      <td>1727544049</td>\n",
       "    </tr>\n",
       "    <tr>\n",
       "      <th>365</th>\n",
       "      <td>2022-05-29</td>\n",
       "      <td>0.386174</td>\n",
       "      <td>0.386588</td>\n",
       "      <td>0.380767</td>\n",
       "      <td>0.385835</td>\n",
       "      <td>0.385835</td>\n",
       "      <td>793724480</td>\n",
       "    </tr>\n",
       "  </tbody>\n",
       "</table>\n",
       "<p>366 rows × 7 columns</p>\n",
       "</div>"
      ],
      "text/plain": [
       "           Date      Open      High       Low     Close  Adj Close      Volume\n",
       "0    2021-05-29  0.899495  0.939792  0.795070  0.831788   0.831788  5156278121\n",
       "1    2021-05-30  0.831994  0.930127  0.799825  0.906609   0.906609  4077064725\n",
       "2    2021-05-31  0.906384  1.049022  0.882556  1.046584   1.046584  6277821474\n",
       "3    2021-06-01  1.042102  1.099639  0.979337  1.011001   1.011001  5606414479\n",
       "4    2021-06-02  1.011214  1.049746  0.981365  1.024400   1.024400  3598008182\n",
       "..          ...       ...       ...       ...       ...        ...         ...\n",
       "361  2022-05-25  0.408700  0.412966  0.396760  0.405785   0.405785  1587278448\n",
       "362  2022-05-26  0.405799  0.410119  0.380723  0.393170   0.393170  2091610974\n",
       "363  2022-05-27  0.393076  0.401280  0.378166  0.381787   0.381787  1927217638\n",
       "364  2022-05-28  0.381732  0.386767  0.381716  0.385426   0.385426  1727544049\n",
       "365  2022-05-29  0.386174  0.386588  0.380767  0.385835   0.385835   793724480\n",
       "\n",
       "[366 rows x 7 columns]"
      ]
     },
     "execution_count": 53,
     "metadata": {},
     "output_type": "execute_result"
    }
   ],
   "source": [
    "import pandas as pd\n",
    "\n",
    "import plotly.figure_factory as ff\n",
    "import plotly.express as plt\n",
    "import plotly.graph_objects as go\n",
    "\n",
    "xrp = pd.read_csv('XRP-USD.csv')\n",
    "\n",
    "xrp"
   ]
  },
  {
   "cell_type": "markdown",
   "metadata": {},
   "source": [
    "We simplify the `Open` and `Close` such that we can see if the price of XRP went up or down from the start till the end of the trading day"
   ]
  },
  {
   "cell_type": "code",
   "execution_count": 54,
   "metadata": {},
   "outputs": [
    {
     "data": {
      "text/html": [
       "<div>\n",
       "<style scoped>\n",
       "    .dataframe tbody tr th:only-of-type {\n",
       "        vertical-align: middle;\n",
       "    }\n",
       "\n",
       "    .dataframe tbody tr th {\n",
       "        vertical-align: top;\n",
       "    }\n",
       "\n",
       "    .dataframe thead th {\n",
       "        text-align: right;\n",
       "    }\n",
       "</style>\n",
       "<table border=\"1\" class=\"dataframe\">\n",
       "  <thead>\n",
       "    <tr style=\"text-align: right;\">\n",
       "      <th></th>\n",
       "      <th>Date</th>\n",
       "      <th>Open</th>\n",
       "      <th>High</th>\n",
       "      <th>Low</th>\n",
       "      <th>Close</th>\n",
       "      <th>Adj Close</th>\n",
       "      <th>Volume</th>\n",
       "      <th>Direction</th>\n",
       "    </tr>\n",
       "  </thead>\n",
       "  <tbody>\n",
       "    <tr>\n",
       "      <th>1</th>\n",
       "      <td>2021-05-30</td>\n",
       "      <td>0.831994</td>\n",
       "      <td>0.930127</td>\n",
       "      <td>0.799825</td>\n",
       "      <td>0.906609</td>\n",
       "      <td>0.906609</td>\n",
       "      <td>4077064725</td>\n",
       "      <td>-1.0</td>\n",
       "    </tr>\n",
       "    <tr>\n",
       "      <th>2</th>\n",
       "      <td>2021-05-31</td>\n",
       "      <td>0.906384</td>\n",
       "      <td>1.049022</td>\n",
       "      <td>0.882556</td>\n",
       "      <td>1.046584</td>\n",
       "      <td>1.046584</td>\n",
       "      <td>6277821474</td>\n",
       "      <td>1.0</td>\n",
       "    </tr>\n",
       "    <tr>\n",
       "      <th>3</th>\n",
       "      <td>2021-06-01</td>\n",
       "      <td>1.042102</td>\n",
       "      <td>1.099639</td>\n",
       "      <td>0.979337</td>\n",
       "      <td>1.011001</td>\n",
       "      <td>1.011001</td>\n",
       "      <td>5606414479</td>\n",
       "      <td>1.0</td>\n",
       "    </tr>\n",
       "    <tr>\n",
       "      <th>4</th>\n",
       "      <td>2021-06-02</td>\n",
       "      <td>1.011214</td>\n",
       "      <td>1.049746</td>\n",
       "      <td>0.981365</td>\n",
       "      <td>1.024400</td>\n",
       "      <td>1.024400</td>\n",
       "      <td>3598008182</td>\n",
       "      <td>-1.0</td>\n",
       "    </tr>\n",
       "    <tr>\n",
       "      <th>5</th>\n",
       "      <td>2021-06-03</td>\n",
       "      <td>1.025146</td>\n",
       "      <td>1.078275</td>\n",
       "      <td>1.008549</td>\n",
       "      <td>1.045321</td>\n",
       "      <td>1.045321</td>\n",
       "      <td>3661357809</td>\n",
       "      <td>1.0</td>\n",
       "    </tr>\n",
       "    <tr>\n",
       "      <th>...</th>\n",
       "      <td>...</td>\n",
       "      <td>...</td>\n",
       "      <td>...</td>\n",
       "      <td>...</td>\n",
       "      <td>...</td>\n",
       "      <td>...</td>\n",
       "      <td>...</td>\n",
       "      <td>...</td>\n",
       "    </tr>\n",
       "    <tr>\n",
       "      <th>361</th>\n",
       "      <td>2022-05-25</td>\n",
       "      <td>0.408700</td>\n",
       "      <td>0.412966</td>\n",
       "      <td>0.396760</td>\n",
       "      <td>0.405785</td>\n",
       "      <td>0.405785</td>\n",
       "      <td>1587278448</td>\n",
       "      <td>1.0</td>\n",
       "    </tr>\n",
       "    <tr>\n",
       "      <th>362</th>\n",
       "      <td>2022-05-26</td>\n",
       "      <td>0.405799</td>\n",
       "      <td>0.410119</td>\n",
       "      <td>0.380723</td>\n",
       "      <td>0.393170</td>\n",
       "      <td>0.393170</td>\n",
       "      <td>2091610974</td>\n",
       "      <td>-1.0</td>\n",
       "    </tr>\n",
       "    <tr>\n",
       "      <th>363</th>\n",
       "      <td>2022-05-27</td>\n",
       "      <td>0.393076</td>\n",
       "      <td>0.401280</td>\n",
       "      <td>0.378166</td>\n",
       "      <td>0.381787</td>\n",
       "      <td>0.381787</td>\n",
       "      <td>1927217638</td>\n",
       "      <td>-1.0</td>\n",
       "    </tr>\n",
       "    <tr>\n",
       "      <th>364</th>\n",
       "      <td>2022-05-28</td>\n",
       "      <td>0.381732</td>\n",
       "      <td>0.386767</td>\n",
       "      <td>0.381716</td>\n",
       "      <td>0.385426</td>\n",
       "      <td>0.385426</td>\n",
       "      <td>1727544049</td>\n",
       "      <td>-1.0</td>\n",
       "    </tr>\n",
       "    <tr>\n",
       "      <th>365</th>\n",
       "      <td>2022-05-29</td>\n",
       "      <td>0.386174</td>\n",
       "      <td>0.386588</td>\n",
       "      <td>0.380767</td>\n",
       "      <td>0.385835</td>\n",
       "      <td>0.385835</td>\n",
       "      <td>793724480</td>\n",
       "      <td>1.0</td>\n",
       "    </tr>\n",
       "  </tbody>\n",
       "</table>\n",
       "<p>365 rows × 8 columns</p>\n",
       "</div>"
      ],
      "text/plain": [
       "           Date      Open      High       Low     Close  Adj Close  \\\n",
       "1    2021-05-30  0.831994  0.930127  0.799825  0.906609   0.906609   \n",
       "2    2021-05-31  0.906384  1.049022  0.882556  1.046584   1.046584   \n",
       "3    2021-06-01  1.042102  1.099639  0.979337  1.011001   1.011001   \n",
       "4    2021-06-02  1.011214  1.049746  0.981365  1.024400   1.024400   \n",
       "5    2021-06-03  1.025146  1.078275  1.008549  1.045321   1.045321   \n",
       "..          ...       ...       ...       ...       ...        ...   \n",
       "361  2022-05-25  0.408700  0.412966  0.396760  0.405785   0.405785   \n",
       "362  2022-05-26  0.405799  0.410119  0.380723  0.393170   0.393170   \n",
       "363  2022-05-27  0.393076  0.401280  0.378166  0.381787   0.381787   \n",
       "364  2022-05-28  0.381732  0.386767  0.381716  0.385426   0.385426   \n",
       "365  2022-05-29  0.386174  0.386588  0.380767  0.385835   0.385835   \n",
       "\n",
       "         Volume  Direction  \n",
       "1    4077064725       -1.0  \n",
       "2    6277821474        1.0  \n",
       "3    5606414479        1.0  \n",
       "4    3598008182       -1.0  \n",
       "5    3661357809        1.0  \n",
       "..          ...        ...  \n",
       "361  1587278448        1.0  \n",
       "362  2091610974       -1.0  \n",
       "363  1927217638       -1.0  \n",
       "364  1727544049       -1.0  \n",
       "365   793724480        1.0  \n",
       "\n",
       "[365 rows x 8 columns]"
      ]
     },
     "execution_count": 54,
     "metadata": {},
     "output_type": "execute_result"
    }
   ],
   "source": [
    "xrp['Direction'] = (xrp['Close'] - xrp['Open']).map(lambda x: 1 if x > 0 else -1).shift(1)\n",
    "xrp.dropna(inplace=True)\n",
    "xrp"
   ]
  },
  {
   "cell_type": "markdown",
   "metadata": {},
   "source": [
    "Lets have a deeper look at the distribution of `Open` and `Close` over the year in **36** day blocks"
   ]
  },
  {
   "cell_type": "code",
   "execution_count": 55,
   "metadata": {},
   "outputs": [],
   "source": [
    "# sz = 36\n",
    "# for i in range(len(xrp) - sz):\n",
    "#     data = xrp.iloc[i:i+sz]\n",
    "#     fig = ff.create_distplot([data['Open'], data['Close']], ['Open', 'Close'], bin_size=.02)\n",
    "#     fig.write_image('images/XRP-{}.png'.format(i))\n"
   ]
  },
  {
   "cell_type": "markdown",
   "metadata": {},
   "source": [
    "The following is the distribution movement of the `Open` and `Close` price of XRP. It can be seen that the `open` and `close` follow a similiar distribution. However, we are interested in the slight differences between these two distributions with the hopes of finding slight probabilistic arbritrage opportunities.\n",
    "\n",
    "<img src=\"videos/crypto.gif\" width=\"550\" align=\"center\">"
   ]
  },
  {
   "cell_type": "code",
   "execution_count": 56,
   "metadata": {},
   "outputs": [],
   "source": [
    "# sz = 36\n",
    "# for i in range(len(xrp) - sz):\n",
    "#     data = xrp.iloc[i:i+sz]\n",
    "#     fig = ff.create_distplot([data['Close'] - data['Open']], ['Difference'], bin_size=.02)\n",
    "#     fig.write_image('images/Diff-{}.png'.format(i))"
   ]
  },
  {
   "cell_type": "markdown",
   "metadata": {},
   "source": [
    "And here is the difference Distribution\n",
    "\n",
    "<img src=\"videos/Diff.gif\" width=\"550\" align=\"center\">"
   ]
  },
  {
   "cell_type": "markdown",
   "metadata": {},
   "source": [
    "### Prediciting Directional Moves\n",
    "---\n",
    "Now that we can know distribution, lets simpligy the directional movement"
   ]
  },
  {
   "cell_type": "code",
   "execution_count": 57,
   "metadata": {},
   "outputs": [],
   "source": [
    "xrp['Direction'] = (xrp['Close'] - xrp['Open']).map(lambda x: 1 if x > 0 else -1)"
   ]
  },
  {
   "cell_type": "code",
   "execution_count": 58,
   "metadata": {},
   "outputs": [
    {
     "data": {
      "application/vnd.plotly.v1+json": {
       "config": {
        "plotlyServerURL": "https://plot.ly"
       },
       "data": [
        {
         "hovertemplate": "variable=Direction<br>index=%{x}<br>value=%{y}<extra></extra>",
         "legendgroup": "Direction",
         "line": {
          "color": "#636efa",
          "dash": "solid"
         },
         "marker": {
          "symbol": "circle"
         },
         "mode": "lines",
         "name": "Direction",
         "orientation": "v",
         "showlegend": true,
         "type": "scatter",
         "x": [
          10,
          11,
          12,
          13,
          14,
          15,
          16,
          17,
          18,
          19,
          20,
          21,
          22,
          23,
          24,
          25,
          26,
          27,
          28,
          29,
          30,
          31,
          32,
          33,
          34,
          35,
          36,
          37,
          38,
          39,
          40,
          41,
          42,
          43,
          44,
          45,
          46,
          47,
          48,
          49,
          50,
          51,
          52,
          53,
          54,
          55,
          56,
          57,
          58,
          59,
          60,
          61,
          62,
          63,
          64,
          65,
          66,
          67,
          68,
          69,
          70,
          71,
          72,
          73,
          74,
          75,
          76,
          77,
          78,
          79,
          80,
          81,
          82,
          83,
          84,
          85,
          86,
          87,
          88,
          89,
          90,
          91,
          92,
          93,
          94,
          95,
          96,
          97,
          98,
          99,
          100,
          101,
          102,
          103,
          104,
          105,
          106,
          107,
          108,
          109,
          110,
          111,
          112,
          113,
          114,
          115,
          116,
          117,
          118,
          119,
          120,
          121,
          122,
          123,
          124,
          125,
          126,
          127,
          128,
          129,
          130,
          131,
          132,
          133,
          134,
          135,
          136,
          137,
          138,
          139,
          140,
          141,
          142,
          143,
          144,
          145,
          146,
          147,
          148,
          149,
          150,
          151,
          152,
          153,
          154,
          155,
          156,
          157,
          158,
          159,
          160,
          161,
          162,
          163,
          164,
          165,
          166,
          167,
          168,
          169,
          170,
          171,
          172,
          173,
          174,
          175,
          176,
          177,
          178,
          179,
          180,
          181,
          182,
          183,
          184,
          185,
          186,
          187,
          188,
          189,
          190,
          191,
          192,
          193,
          194,
          195,
          196,
          197,
          198,
          199,
          200,
          201,
          202,
          203,
          204,
          205,
          206,
          207,
          208,
          209,
          210,
          211,
          212,
          213,
          214,
          215,
          216,
          217,
          218,
          219,
          220,
          221,
          222,
          223,
          224,
          225,
          226,
          227,
          228,
          229,
          230,
          231,
          232,
          233,
          234,
          235,
          236,
          237,
          238,
          239,
          240,
          241,
          242,
          243,
          244,
          245,
          246,
          247,
          248,
          249,
          250,
          251,
          252,
          253,
          254,
          255,
          256,
          257,
          258,
          259,
          260,
          261,
          262,
          263,
          264,
          265,
          266,
          267,
          268,
          269,
          270,
          271,
          272,
          273,
          274,
          275,
          276,
          277,
          278,
          279,
          280,
          281,
          282,
          283,
          284,
          285,
          286,
          287,
          288,
          289,
          290,
          291,
          292,
          293,
          294,
          295,
          296,
          297,
          298,
          299,
          300,
          301,
          302,
          303,
          304,
          305,
          306,
          307,
          308,
          309,
          310,
          311,
          312,
          313,
          314,
          315,
          316,
          317,
          318,
          319,
          320,
          321,
          322,
          323,
          324,
          325,
          326,
          327,
          328,
          329,
          330,
          331,
          332,
          333,
          334,
          335,
          336,
          337,
          338,
          339,
          340,
          341,
          342,
          343,
          344,
          345,
          346,
          347,
          348,
          349,
          350,
          351,
          352,
          353,
          354,
          355,
          356,
          357,
          358,
          359,
          360,
          361,
          362,
          363,
          364,
          365
         ],
         "xaxis": "x",
         "y": [
          2,
          2,
          0,
          0,
          -2,
          -2,
          0,
          2,
          0,
          2,
          0,
          -2,
          0,
          0,
          0,
          0,
          0,
          -2,
          0,
          0,
          0,
          2,
          2,
          2,
          2,
          2,
          2,
          2,
          2,
          0,
          0,
          0,
          -2,
          0,
          0,
          -2,
          -2,
          -2,
          -4,
          -4,
          -2,
          -4,
          -4,
          -4,
          -2,
          0,
          0,
          0,
          2,
          4,
          4,
          6,
          8,
          6,
          4,
          4,
          2,
          4,
          4,
          4,
          4,
          2,
          2,
          4,
          6,
          4,
          6,
          6,
          6,
          4,
          2,
          4,
          4,
          4,
          2,
          4,
          4,
          2,
          2,
          2,
          4,
          2,
          0,
          -2,
          0,
          0,
          0,
          2,
          0,
          2,
          2,
          2,
          2,
          2,
          0,
          0,
          0,
          -2,
          0,
          0,
          -2,
          -2,
          0,
          0,
          0,
          -2,
          -2,
          -2,
          -4,
          -6,
          -4,
          -4,
          -6,
          -4,
          -2,
          0,
          -2,
          0,
          0,
          2,
          0,
          0,
          0,
          0,
          -2,
          -2,
          -2,
          -2,
          0,
          0,
          0,
          0,
          0,
          0,
          2,
          0,
          0,
          0,
          -2,
          -2,
          0,
          0,
          2,
          2,
          2,
          4,
          4,
          4,
          6,
          4,
          2,
          2,
          2,
          2,
          0,
          -2,
          0,
          -2,
          -2,
          -2,
          -2,
          -2,
          -2,
          -4,
          -2,
          0,
          -2,
          -2,
          -2,
          -2,
          -2,
          -2,
          -2,
          0,
          0,
          0,
          0,
          0,
          -2,
          -2,
          -2,
          0,
          -2,
          -2,
          -4,
          -6,
          -4,
          -2,
          -2,
          0,
          2,
          0,
          0,
          0,
          2,
          4,
          4,
          4,
          6,
          4,
          4,
          4,
          6,
          4,
          2,
          2,
          0,
          0,
          0,
          0,
          -2,
          -2,
          -2,
          -2,
          -2,
          -2,
          -2,
          -2,
          -2,
          -2,
          0,
          2,
          0,
          0,
          0,
          -2,
          -2,
          -4,
          -6,
          -4,
          -6,
          -6,
          -4,
          -4,
          -2,
          0,
          0,
          2,
          4,
          2,
          4,
          4,
          4,
          6,
          6,
          6,
          6,
          4,
          2,
          4,
          2,
          0,
          0,
          -2,
          -4,
          -4,
          -2,
          -2,
          -2,
          -2,
          -2,
          -2,
          -2,
          -2,
          -2,
          -2,
          -2,
          -2,
          -2,
          -4,
          -2,
          -2,
          -4,
          -4,
          -2,
          -4,
          -4,
          -4,
          -4,
          -2,
          -4,
          -2,
          0,
          2,
          2,
          2,
          2,
          2,
          4,
          4,
          4,
          4,
          4,
          4,
          2,
          4,
          2,
          4,
          2,
          2,
          2,
          0,
          -2,
          -2,
          -2,
          -2,
          -2,
          -4,
          -2,
          -2,
          0,
          2,
          2,
          0,
          2,
          2,
          2,
          2,
          0,
          -2,
          -4,
          -6,
          -6,
          -4,
          -6,
          -8,
          -8,
          -6,
          -4,
          -4,
          -2,
          -2,
          0,
          -2,
          -2,
          -2,
          0,
          -2,
          -4,
          -2,
          -2,
          0,
          -2,
          0,
          0,
          2,
          0,
          2,
          4,
          2,
          2,
          0,
          0,
          -2,
          0,
          -2
         ],
         "yaxis": "y"
        }
       ],
       "layout": {
        "legend": {
         "title": {
          "text": "variable"
         },
         "tracegroupgap": 0
        },
        "margin": {
         "t": 60
        },
        "template": {
         "data": {
          "bar": [
           {
            "error_x": {
             "color": "#2a3f5f"
            },
            "error_y": {
             "color": "#2a3f5f"
            },
            "marker": {
             "line": {
              "color": "#E5ECF6",
              "width": 0.5
             },
             "pattern": {
              "fillmode": "overlay",
              "size": 10,
              "solidity": 0.2
             }
            },
            "type": "bar"
           }
          ],
          "barpolar": [
           {
            "marker": {
             "line": {
              "color": "#E5ECF6",
              "width": 0.5
             },
             "pattern": {
              "fillmode": "overlay",
              "size": 10,
              "solidity": 0.2
             }
            },
            "type": "barpolar"
           }
          ],
          "carpet": [
           {
            "aaxis": {
             "endlinecolor": "#2a3f5f",
             "gridcolor": "white",
             "linecolor": "white",
             "minorgridcolor": "white",
             "startlinecolor": "#2a3f5f"
            },
            "baxis": {
             "endlinecolor": "#2a3f5f",
             "gridcolor": "white",
             "linecolor": "white",
             "minorgridcolor": "white",
             "startlinecolor": "#2a3f5f"
            },
            "type": "carpet"
           }
          ],
          "choropleth": [
           {
            "colorbar": {
             "outlinewidth": 0,
             "ticks": ""
            },
            "type": "choropleth"
           }
          ],
          "contour": [
           {
            "colorbar": {
             "outlinewidth": 0,
             "ticks": ""
            },
            "colorscale": [
             [
              0,
              "#0d0887"
             ],
             [
              0.1111111111111111,
              "#46039f"
             ],
             [
              0.2222222222222222,
              "#7201a8"
             ],
             [
              0.3333333333333333,
              "#9c179e"
             ],
             [
              0.4444444444444444,
              "#bd3786"
             ],
             [
              0.5555555555555556,
              "#d8576b"
             ],
             [
              0.6666666666666666,
              "#ed7953"
             ],
             [
              0.7777777777777778,
              "#fb9f3a"
             ],
             [
              0.8888888888888888,
              "#fdca26"
             ],
             [
              1,
              "#f0f921"
             ]
            ],
            "type": "contour"
           }
          ],
          "contourcarpet": [
           {
            "colorbar": {
             "outlinewidth": 0,
             "ticks": ""
            },
            "type": "contourcarpet"
           }
          ],
          "heatmap": [
           {
            "colorbar": {
             "outlinewidth": 0,
             "ticks": ""
            },
            "colorscale": [
             [
              0,
              "#0d0887"
             ],
             [
              0.1111111111111111,
              "#46039f"
             ],
             [
              0.2222222222222222,
              "#7201a8"
             ],
             [
              0.3333333333333333,
              "#9c179e"
             ],
             [
              0.4444444444444444,
              "#bd3786"
             ],
             [
              0.5555555555555556,
              "#d8576b"
             ],
             [
              0.6666666666666666,
              "#ed7953"
             ],
             [
              0.7777777777777778,
              "#fb9f3a"
             ],
             [
              0.8888888888888888,
              "#fdca26"
             ],
             [
              1,
              "#f0f921"
             ]
            ],
            "type": "heatmap"
           }
          ],
          "heatmapgl": [
           {
            "colorbar": {
             "outlinewidth": 0,
             "ticks": ""
            },
            "colorscale": [
             [
              0,
              "#0d0887"
             ],
             [
              0.1111111111111111,
              "#46039f"
             ],
             [
              0.2222222222222222,
              "#7201a8"
             ],
             [
              0.3333333333333333,
              "#9c179e"
             ],
             [
              0.4444444444444444,
              "#bd3786"
             ],
             [
              0.5555555555555556,
              "#d8576b"
             ],
             [
              0.6666666666666666,
              "#ed7953"
             ],
             [
              0.7777777777777778,
              "#fb9f3a"
             ],
             [
              0.8888888888888888,
              "#fdca26"
             ],
             [
              1,
              "#f0f921"
             ]
            ],
            "type": "heatmapgl"
           }
          ],
          "histogram": [
           {
            "marker": {
             "pattern": {
              "fillmode": "overlay",
              "size": 10,
              "solidity": 0.2
             }
            },
            "type": "histogram"
           }
          ],
          "histogram2d": [
           {
            "colorbar": {
             "outlinewidth": 0,
             "ticks": ""
            },
            "colorscale": [
             [
              0,
              "#0d0887"
             ],
             [
              0.1111111111111111,
              "#46039f"
             ],
             [
              0.2222222222222222,
              "#7201a8"
             ],
             [
              0.3333333333333333,
              "#9c179e"
             ],
             [
              0.4444444444444444,
              "#bd3786"
             ],
             [
              0.5555555555555556,
              "#d8576b"
             ],
             [
              0.6666666666666666,
              "#ed7953"
             ],
             [
              0.7777777777777778,
              "#fb9f3a"
             ],
             [
              0.8888888888888888,
              "#fdca26"
             ],
             [
              1,
              "#f0f921"
             ]
            ],
            "type": "histogram2d"
           }
          ],
          "histogram2dcontour": [
           {
            "colorbar": {
             "outlinewidth": 0,
             "ticks": ""
            },
            "colorscale": [
             [
              0,
              "#0d0887"
             ],
             [
              0.1111111111111111,
              "#46039f"
             ],
             [
              0.2222222222222222,
              "#7201a8"
             ],
             [
              0.3333333333333333,
              "#9c179e"
             ],
             [
              0.4444444444444444,
              "#bd3786"
             ],
             [
              0.5555555555555556,
              "#d8576b"
             ],
             [
              0.6666666666666666,
              "#ed7953"
             ],
             [
              0.7777777777777778,
              "#fb9f3a"
             ],
             [
              0.8888888888888888,
              "#fdca26"
             ],
             [
              1,
              "#f0f921"
             ]
            ],
            "type": "histogram2dcontour"
           }
          ],
          "mesh3d": [
           {
            "colorbar": {
             "outlinewidth": 0,
             "ticks": ""
            },
            "type": "mesh3d"
           }
          ],
          "parcoords": [
           {
            "line": {
             "colorbar": {
              "outlinewidth": 0,
              "ticks": ""
             }
            },
            "type": "parcoords"
           }
          ],
          "pie": [
           {
            "automargin": true,
            "type": "pie"
           }
          ],
          "scatter": [
           {
            "marker": {
             "colorbar": {
              "outlinewidth": 0,
              "ticks": ""
             }
            },
            "type": "scatter"
           }
          ],
          "scatter3d": [
           {
            "line": {
             "colorbar": {
              "outlinewidth": 0,
              "ticks": ""
             }
            },
            "marker": {
             "colorbar": {
              "outlinewidth": 0,
              "ticks": ""
             }
            },
            "type": "scatter3d"
           }
          ],
          "scattercarpet": [
           {
            "marker": {
             "colorbar": {
              "outlinewidth": 0,
              "ticks": ""
             }
            },
            "type": "scattercarpet"
           }
          ],
          "scattergeo": [
           {
            "marker": {
             "colorbar": {
              "outlinewidth": 0,
              "ticks": ""
             }
            },
            "type": "scattergeo"
           }
          ],
          "scattergl": [
           {
            "marker": {
             "colorbar": {
              "outlinewidth": 0,
              "ticks": ""
             }
            },
            "type": "scattergl"
           }
          ],
          "scattermapbox": [
           {
            "marker": {
             "colorbar": {
              "outlinewidth": 0,
              "ticks": ""
             }
            },
            "type": "scattermapbox"
           }
          ],
          "scatterpolar": [
           {
            "marker": {
             "colorbar": {
              "outlinewidth": 0,
              "ticks": ""
             }
            },
            "type": "scatterpolar"
           }
          ],
          "scatterpolargl": [
           {
            "marker": {
             "colorbar": {
              "outlinewidth": 0,
              "ticks": ""
             }
            },
            "type": "scatterpolargl"
           }
          ],
          "scatterternary": [
           {
            "marker": {
             "colorbar": {
              "outlinewidth": 0,
              "ticks": ""
             }
            },
            "type": "scatterternary"
           }
          ],
          "surface": [
           {
            "colorbar": {
             "outlinewidth": 0,
             "ticks": ""
            },
            "colorscale": [
             [
              0,
              "#0d0887"
             ],
             [
              0.1111111111111111,
              "#46039f"
             ],
             [
              0.2222222222222222,
              "#7201a8"
             ],
             [
              0.3333333333333333,
              "#9c179e"
             ],
             [
              0.4444444444444444,
              "#bd3786"
             ],
             [
              0.5555555555555556,
              "#d8576b"
             ],
             [
              0.6666666666666666,
              "#ed7953"
             ],
             [
              0.7777777777777778,
              "#fb9f3a"
             ],
             [
              0.8888888888888888,
              "#fdca26"
             ],
             [
              1,
              "#f0f921"
             ]
            ],
            "type": "surface"
           }
          ],
          "table": [
           {
            "cells": {
             "fill": {
              "color": "#EBF0F8"
             },
             "line": {
              "color": "white"
             }
            },
            "header": {
             "fill": {
              "color": "#C8D4E3"
             },
             "line": {
              "color": "white"
             }
            },
            "type": "table"
           }
          ]
         },
         "layout": {
          "annotationdefaults": {
           "arrowcolor": "#2a3f5f",
           "arrowhead": 0,
           "arrowwidth": 1
          },
          "autotypenumbers": "strict",
          "coloraxis": {
           "colorbar": {
            "outlinewidth": 0,
            "ticks": ""
           }
          },
          "colorscale": {
           "diverging": [
            [
             0,
             "#8e0152"
            ],
            [
             0.1,
             "#c51b7d"
            ],
            [
             0.2,
             "#de77ae"
            ],
            [
             0.3,
             "#f1b6da"
            ],
            [
             0.4,
             "#fde0ef"
            ],
            [
             0.5,
             "#f7f7f7"
            ],
            [
             0.6,
             "#e6f5d0"
            ],
            [
             0.7,
             "#b8e186"
            ],
            [
             0.8,
             "#7fbc41"
            ],
            [
             0.9,
             "#4d9221"
            ],
            [
             1,
             "#276419"
            ]
           ],
           "sequential": [
            [
             0,
             "#0d0887"
            ],
            [
             0.1111111111111111,
             "#46039f"
            ],
            [
             0.2222222222222222,
             "#7201a8"
            ],
            [
             0.3333333333333333,
             "#9c179e"
            ],
            [
             0.4444444444444444,
             "#bd3786"
            ],
            [
             0.5555555555555556,
             "#d8576b"
            ],
            [
             0.6666666666666666,
             "#ed7953"
            ],
            [
             0.7777777777777778,
             "#fb9f3a"
            ],
            [
             0.8888888888888888,
             "#fdca26"
            ],
            [
             1,
             "#f0f921"
            ]
           ],
           "sequentialminus": [
            [
             0,
             "#0d0887"
            ],
            [
             0.1111111111111111,
             "#46039f"
            ],
            [
             0.2222222222222222,
             "#7201a8"
            ],
            [
             0.3333333333333333,
             "#9c179e"
            ],
            [
             0.4444444444444444,
             "#bd3786"
            ],
            [
             0.5555555555555556,
             "#d8576b"
            ],
            [
             0.6666666666666666,
             "#ed7953"
            ],
            [
             0.7777777777777778,
             "#fb9f3a"
            ],
            [
             0.8888888888888888,
             "#fdca26"
            ],
            [
             1,
             "#f0f921"
            ]
           ]
          },
          "colorway": [
           "#636efa",
           "#EF553B",
           "#00cc96",
           "#ab63fa",
           "#FFA15A",
           "#19d3f3",
           "#FF6692",
           "#B6E880",
           "#FF97FF",
           "#FECB52"
          ],
          "font": {
           "color": "#2a3f5f"
          },
          "geo": {
           "bgcolor": "white",
           "lakecolor": "white",
           "landcolor": "#E5ECF6",
           "showlakes": true,
           "showland": true,
           "subunitcolor": "white"
          },
          "hoverlabel": {
           "align": "left"
          },
          "hovermode": "closest",
          "mapbox": {
           "style": "light"
          },
          "paper_bgcolor": "white",
          "plot_bgcolor": "#E5ECF6",
          "polar": {
           "angularaxis": {
            "gridcolor": "white",
            "linecolor": "white",
            "ticks": ""
           },
           "bgcolor": "#E5ECF6",
           "radialaxis": {
            "gridcolor": "white",
            "linecolor": "white",
            "ticks": ""
           }
          },
          "scene": {
           "xaxis": {
            "backgroundcolor": "#E5ECF6",
            "gridcolor": "white",
            "gridwidth": 2,
            "linecolor": "white",
            "showbackground": true,
            "ticks": "",
            "zerolinecolor": "white"
           },
           "yaxis": {
            "backgroundcolor": "#E5ECF6",
            "gridcolor": "white",
            "gridwidth": 2,
            "linecolor": "white",
            "showbackground": true,
            "ticks": "",
            "zerolinecolor": "white"
           },
           "zaxis": {
            "backgroundcolor": "#E5ECF6",
            "gridcolor": "white",
            "gridwidth": 2,
            "linecolor": "white",
            "showbackground": true,
            "ticks": "",
            "zerolinecolor": "white"
           }
          },
          "shapedefaults": {
           "line": {
            "color": "#2a3f5f"
           }
          },
          "ternary": {
           "aaxis": {
            "gridcolor": "white",
            "linecolor": "white",
            "ticks": ""
           },
           "baxis": {
            "gridcolor": "white",
            "linecolor": "white",
            "ticks": ""
           },
           "bgcolor": "#E5ECF6",
           "caxis": {
            "gridcolor": "white",
            "linecolor": "white",
            "ticks": ""
           }
          },
          "title": {
           "x": 0.05
          },
          "xaxis": {
           "automargin": true,
           "gridcolor": "white",
           "linecolor": "white",
           "ticks": "",
           "title": {
            "standoff": 15
           },
           "zerolinecolor": "white",
           "zerolinewidth": 2
          },
          "yaxis": {
           "automargin": true,
           "gridcolor": "white",
           "linecolor": "white",
           "ticks": "",
           "title": {
            "standoff": 15
           },
           "zerolinecolor": "white",
           "zerolinewidth": 2
          }
         }
        },
        "xaxis": {
         "anchor": "y",
         "domain": [
          0,
          1
         ],
         "title": {
          "text": "index"
         }
        },
        "yaxis": {
         "anchor": "x",
         "domain": [
          0,
          1
         ],
         "title": {
          "text": "value"
         }
        }
       }
      }
     },
     "metadata": {},
     "output_type": "display_data"
    }
   ],
   "source": [
    "dir = xrp['Direction'].rolling(window=10).sum().dropna()\n",
    "plt.line(dir)"
   ]
  },
  {
   "cell_type": "code",
   "execution_count": 59,
   "metadata": {},
   "outputs": [],
   "source": [
    "up = xrp[xrp['Direction'] == 1]\n",
    "down = xrp[xrp['Direction'] == -1]"
   ]
  },
  {
   "cell_type": "markdown",
   "metadata": {},
   "source": [
    "### Decriptive Statistics\n",
    "---\n",
    "\n",
    "Lets look at the High / Low when for every Open / Close based upon the direction of movemment."
   ]
  },
  {
   "cell_type": "markdown",
   "metadata": {},
   "source": [
    "#### Direction: Up"
   ]
  },
  {
   "cell_type": "code",
   "execution_count": 60,
   "metadata": {},
   "outputs": [
    {
     "data": {
      "application/vnd.plotly.v1+json": {
       "config": {
        "plotlyServerURL": "https://plot.ly"
       },
       "data": [
        {
         "name": "High - Open",
         "type": "box",
         "y": [
          0.09813300000000003,
          0.14263799999999993,
          0.03853200000000001,
          0.053129000000000204,
          0.026051000000000046,
          0.022716999999999987,
          0.04597600000000002,
          0.05482500000000001,
          0.043061999999999934,
          0.015183999999999975,
          0.029696000000000056,
          0.023917999999999995,
          0.11360500000000007,
          0.05242000000000002,
          0.020090000000000052,
          0.034777999999999976,
          0.083785,
          0.007991999999999999,
          0.028038000000000007,
          0.03456500000000007,
          0.026868000000000003,
          0.022858999999999963,
          0.018428999999999918,
          0.005254999999999899,
          0.018610000000000015,
          0.05424299999999993,
          0.03097799999999995,
          0.016969000000000012,
          0.011699000000000015,
          0.07097700000000007,
          0.02790899999999996,
          0.10626899999999995,
          0.03210600000000008,
          0.018302999999999958,
          0.04918,
          0.02560499999999999,
          0.007700999999999958,
          0.01916399999999996,
          0.07090700000000005,
          0.04838699999999996,
          0.04425100000000004,
          0.235773,
          0.12734999999999996,
          0.21937699999999993,
          0.06753000000000009,
          0.09653800000000001,
          0.08818400000000004,
          0.05351700000000004,
          0.037269,
          0.07740799999999992,
          0.04051899999999997,
          0.1151749999999998,
          0.138768,
          0.04797399999999996,
          0.05675399999999997,
          0.06738399999999989,
          0.053271999999999986,
          0.10644999999999993,
          0.054704000000000086,
          0.04696699999999998,
          0.03228300000000006,
          0.03238199999999991,
          0.028702999999999923,
          0.13553300000000001,
          0.01512099999999994,
          0.09575899999999993,
          0.036567999999999934,
          0.11023300000000014,
          0.05075000000000007,
          0.045805000000000096,
          0.14635999999999982,
          0.043803999999999954,
          0.03572400000000009,
          0.028931999999999958,
          0.030795000000000128,
          0.016092999999999913,
          0.061072000000000015,
          0.012550000000000061,
          0.02055999999999991,
          0.06323199999999995,
          0.0867,
          0.031118999999999897,
          0.03290700000000002,
          0.06652400000000003,
          0.05251700000000015,
          0.09708700000000015,
          0.08438199999999996,
          0.07534799999999997,
          0.06049400000000005,
          0.014654999999999863,
          0.023182000000000036,
          0.058270000000000044,
          0.010334000000000065,
          0.03465699999999994,
          0.027264000000000066,
          0.022023000000000015,
          0.033082999999999974,
          0.03863300000000003,
          0.02581700000000009,
          0.068083,
          0.04224799999999995,
          0.018076000000000092,
          0.03478999999999999,
          0.02836100000000008,
          0.03567100000000001,
          0.021155000000000035,
          0.07833199999999996,
          0.081426,
          0.024708000000000063,
          0.061734999999999984,
          0.021519999999999984,
          0.03508100000000003,
          0.03839500000000007,
          0.021916999999999964,
          0.014116000000000017,
          0.014916999999999958,
          0.01858800000000005,
          0.03410499999999994,
          0.03544000000000003,
          0.02099799999999996,
          0.014554999999999985,
          0.037802,
          0.00908500000000001,
          0.035005000000000064,
          0.004241999999999968,
          0.010915000000000008,
          0.019251000000000018,
          0.011311000000000071,
          0.006268999999999969,
          0.04887599999999992,
          0.02785099999999996,
          0.018066000000000026,
          0.150563,
          0.08275999999999994,
          0.088588,
          0.053610999999999964,
          0.03661899999999996,
          0.06395099999999998,
          0.021858000000000044,
          0.07264499999999996,
          0.06639099999999998,
          0.018564999999999943,
          0.05329499999999998,
          0.04888300000000001,
          0.07082699999999997,
          0.014558999999999989,
          0.026868000000000003,
          0.007131999999999916,
          0.005661000000000027,
          0.027105999999999963,
          0.045163000000000064,
          0.007011999999999907,
          0.011471000000000009,
          0.009153999999999995,
          0.024561000000000055,
          0.050678,
          0.013337000000000043,
          0.018969000000000014,
          0.025262999999999924,
          0.02812300000000001,
          0.01202100000000006,
          0.026422999999999974,
          0.008247000000000004,
          0.016417000000000015,
          0.06688400000000005,
          0.015006999999999993,
          0.012148999999999965,
          0.019583000000000017,
          0.023146,
          0.021491000000000038,
          0.043040999999999996,
          0.01464999999999994,
          0.04285899999999998,
          0.077158,
          0.016085000000000016,
          0.019926,
          0.016634999999999955,
          0.01630100000000001,
          0.006128000000000022,
          0.009646000000000043,
          0.008608000000000005,
          0.005035000000000012
         ]
        },
        {
         "name": "High - Close",
         "type": "box",
         "y": [
          0.02351800000000004,
          0.00243799999999994,
          0.02534600000000009,
          0.03295400000000015,
          0.004246000000000083,
          0.009709999999999996,
          0,
          0.00491700000000006,
          0.03321299999999994,
          0.012452999999999936,
          0.01999099999999998,
          0.00791799999999998,
          0.0340140000000001,
          0.01900999999999997,
          0.01624100000000006,
          0.004848999999999992,
          0.02600099999999994,
          0.0072990000000000554,
          0.010788999999999938,
          0.012838000000000016,
          0.014521000000000006,
          0.007742999999999944,
          0.007213999999999943,
          0.0043999999999999595,
          0.013281000000000098,
          0.01329899999999995,
          0.010330999999999979,
          0.0002910000000000412,
          0.010869000000000018,
          0.05225000000000002,
          0.007479000000000013,
          0.026395999999999975,
          0.01672499999999999,
          0.01602999999999999,
          0.03410500000000005,
          0.008749999999999925,
          0.005469999999999975,
          0.005632999999999999,
          0.0017610000000000126,
          0.00884600000000002,
          0.010341000000000045,
          0.07452900000000007,
          0.0045359999999998735,
          0.028798999999999797,
          0.061014000000000124,
          0.04810300000000001,
          0,
          0.02374900000000002,
          0.026941000000000104,
          0.056949999999999834,
          0.005001000000000033,
          0,
          0.052511000000000196,
          0,
          0.037971999999999895,
          0.030085999999999835,
          0.0029040000000000177,
          0.024353999999999987,
          0.03139500000000006,
          0.007608999999999977,
          0.0010790000000000521,
          0.007967999999999975,
          0.018947999999999965,
          0.005281000000000091,
          0.011970999999999954,
          0.06200099999999997,
          0.011444999999999927,
          0.021373000000000086,
          0.033268000000000075,
          0.0019899999999999363,
          0.04828799999999989,
          0.04321599999999992,
          0.009298000000000028,
          0.02410699999999988,
          0.023780000000000134,
          0.007905000000000051,
          0.010655999999999999,
          0.007889000000000035,
          0.008708999999999856,
          0.050249999999999906,
          0.02311899999999989,
          0.008662999999999865,
          0.03033599999999992,
          0.03920299999999988,
          0.008898000000000073,
          0.024229000000000056,
          0.020048000000000066,
          0.01400099999999993,
          0.03492899999999999,
          0.01218600000000003,
          0.016995000000000093,
          0.00770100000000018,
          0.003750000000000142,
          0.004693999999999976,
          0.020118999999999998,
          0.0010209999999999386,
          0.010943999999999954,
          0.031367000000000034,
          0.0035760000000000236,
          0.022314999999999974,
          0.004997000000000029,
          0.015497000000000094,
          0.021340000000000026,
          0.012653000000000025,
          0.0072990000000000554,
          0.013301000000000007,
          0.03444299999999989,
          0.01321300000000003,
          0.01811000000000007,
          0.023274000000000017,
          0.009095000000000075,
          0.029700999999999977,
          0.01666500000000004,
          0.003726000000000007,
          0.0044399999999999995,
          0.007870999999999961,
          0.011816000000000049,
          0.002906999999999993,
          0.00649999999999995,
          0.015058999999999934,
          0.007441000000000031,
          0.005238999999999994,
          0.003666000000000058,
          0.030477000000000087,
          0.0003490000000000437,
          0.0064710000000000045,
          0.0031650000000000844,
          0.0010839999999999739,
          0,
          0.0006189999999999252,
          0.016554999999999986,
          0.0015460000000000473,
          0.006336000000000008,
          0.032942999999999945,
          0.026429999999999954,
          0.0035239999999999716,
          0.018015000000000003,
          0.02728799999999998,
          0.0023580000000000823,
          0,
          0.006278000000000006,
          0.015773000000000037,
          0.011185,
          0.0026530000000000165,
          0.006178000000000017,
          0.0012790000000000301,
          0.00007699999999999374,
          0.007064999999999988,
          0.0008460000000000134,
          0.005859999999999976,
          0.012974000000000041,
          0.0062589999999999035,
          0.006359999999999921,
          0.001535000000000064,
          0.00003300000000006076,
          0.04478199999999999,
          0.010465000000000058,
          0.005937999999999999,
          0.007203999999999988,
          0.0014839999999999298,
          0.0024770000000000625,
          0.004978000000000038,
          0.0009090000000000487,
          0.013336000000000015,
          0.00800500000000004,
          0.00017700000000009375,
          0.005128000000000021,
          0.00905900000000004,
          0.0023879999999999457,
          0.015041000000000082,
          0.001371000000000011,
          0.010911999999999922,
          0.021672999999999942,
          0.03891900000000004,
          0.011730000000000018,
          0.00024199999999996447,
          0.001468999999999998,
          0.0023869999999999725,
          0.002583000000000002,
          0.0020000000000000018,
          0.0045760000000000245,
          0.0013410000000000366
         ]
        }
       ],
       "layout": {
        "template": {
         "data": {
          "bar": [
           {
            "error_x": {
             "color": "#2a3f5f"
            },
            "error_y": {
             "color": "#2a3f5f"
            },
            "marker": {
             "line": {
              "color": "#E5ECF6",
              "width": 0.5
             },
             "pattern": {
              "fillmode": "overlay",
              "size": 10,
              "solidity": 0.2
             }
            },
            "type": "bar"
           }
          ],
          "barpolar": [
           {
            "marker": {
             "line": {
              "color": "#E5ECF6",
              "width": 0.5
             },
             "pattern": {
              "fillmode": "overlay",
              "size": 10,
              "solidity": 0.2
             }
            },
            "type": "barpolar"
           }
          ],
          "carpet": [
           {
            "aaxis": {
             "endlinecolor": "#2a3f5f",
             "gridcolor": "white",
             "linecolor": "white",
             "minorgridcolor": "white",
             "startlinecolor": "#2a3f5f"
            },
            "baxis": {
             "endlinecolor": "#2a3f5f",
             "gridcolor": "white",
             "linecolor": "white",
             "minorgridcolor": "white",
             "startlinecolor": "#2a3f5f"
            },
            "type": "carpet"
           }
          ],
          "choropleth": [
           {
            "colorbar": {
             "outlinewidth": 0,
             "ticks": ""
            },
            "type": "choropleth"
           }
          ],
          "contour": [
           {
            "colorbar": {
             "outlinewidth": 0,
             "ticks": ""
            },
            "colorscale": [
             [
              0,
              "#0d0887"
             ],
             [
              0.1111111111111111,
              "#46039f"
             ],
             [
              0.2222222222222222,
              "#7201a8"
             ],
             [
              0.3333333333333333,
              "#9c179e"
             ],
             [
              0.4444444444444444,
              "#bd3786"
             ],
             [
              0.5555555555555556,
              "#d8576b"
             ],
             [
              0.6666666666666666,
              "#ed7953"
             ],
             [
              0.7777777777777778,
              "#fb9f3a"
             ],
             [
              0.8888888888888888,
              "#fdca26"
             ],
             [
              1,
              "#f0f921"
             ]
            ],
            "type": "contour"
           }
          ],
          "contourcarpet": [
           {
            "colorbar": {
             "outlinewidth": 0,
             "ticks": ""
            },
            "type": "contourcarpet"
           }
          ],
          "heatmap": [
           {
            "colorbar": {
             "outlinewidth": 0,
             "ticks": ""
            },
            "colorscale": [
             [
              0,
              "#0d0887"
             ],
             [
              0.1111111111111111,
              "#46039f"
             ],
             [
              0.2222222222222222,
              "#7201a8"
             ],
             [
              0.3333333333333333,
              "#9c179e"
             ],
             [
              0.4444444444444444,
              "#bd3786"
             ],
             [
              0.5555555555555556,
              "#d8576b"
             ],
             [
              0.6666666666666666,
              "#ed7953"
             ],
             [
              0.7777777777777778,
              "#fb9f3a"
             ],
             [
              0.8888888888888888,
              "#fdca26"
             ],
             [
              1,
              "#f0f921"
             ]
            ],
            "type": "heatmap"
           }
          ],
          "heatmapgl": [
           {
            "colorbar": {
             "outlinewidth": 0,
             "ticks": ""
            },
            "colorscale": [
             [
              0,
              "#0d0887"
             ],
             [
              0.1111111111111111,
              "#46039f"
             ],
             [
              0.2222222222222222,
              "#7201a8"
             ],
             [
              0.3333333333333333,
              "#9c179e"
             ],
             [
              0.4444444444444444,
              "#bd3786"
             ],
             [
              0.5555555555555556,
              "#d8576b"
             ],
             [
              0.6666666666666666,
              "#ed7953"
             ],
             [
              0.7777777777777778,
              "#fb9f3a"
             ],
             [
              0.8888888888888888,
              "#fdca26"
             ],
             [
              1,
              "#f0f921"
             ]
            ],
            "type": "heatmapgl"
           }
          ],
          "histogram": [
           {
            "marker": {
             "pattern": {
              "fillmode": "overlay",
              "size": 10,
              "solidity": 0.2
             }
            },
            "type": "histogram"
           }
          ],
          "histogram2d": [
           {
            "colorbar": {
             "outlinewidth": 0,
             "ticks": ""
            },
            "colorscale": [
             [
              0,
              "#0d0887"
             ],
             [
              0.1111111111111111,
              "#46039f"
             ],
             [
              0.2222222222222222,
              "#7201a8"
             ],
             [
              0.3333333333333333,
              "#9c179e"
             ],
             [
              0.4444444444444444,
              "#bd3786"
             ],
             [
              0.5555555555555556,
              "#d8576b"
             ],
             [
              0.6666666666666666,
              "#ed7953"
             ],
             [
              0.7777777777777778,
              "#fb9f3a"
             ],
             [
              0.8888888888888888,
              "#fdca26"
             ],
             [
              1,
              "#f0f921"
             ]
            ],
            "type": "histogram2d"
           }
          ],
          "histogram2dcontour": [
           {
            "colorbar": {
             "outlinewidth": 0,
             "ticks": ""
            },
            "colorscale": [
             [
              0,
              "#0d0887"
             ],
             [
              0.1111111111111111,
              "#46039f"
             ],
             [
              0.2222222222222222,
              "#7201a8"
             ],
             [
              0.3333333333333333,
              "#9c179e"
             ],
             [
              0.4444444444444444,
              "#bd3786"
             ],
             [
              0.5555555555555556,
              "#d8576b"
             ],
             [
              0.6666666666666666,
              "#ed7953"
             ],
             [
              0.7777777777777778,
              "#fb9f3a"
             ],
             [
              0.8888888888888888,
              "#fdca26"
             ],
             [
              1,
              "#f0f921"
             ]
            ],
            "type": "histogram2dcontour"
           }
          ],
          "mesh3d": [
           {
            "colorbar": {
             "outlinewidth": 0,
             "ticks": ""
            },
            "type": "mesh3d"
           }
          ],
          "parcoords": [
           {
            "line": {
             "colorbar": {
              "outlinewidth": 0,
              "ticks": ""
             }
            },
            "type": "parcoords"
           }
          ],
          "pie": [
           {
            "automargin": true,
            "type": "pie"
           }
          ],
          "scatter": [
           {
            "marker": {
             "colorbar": {
              "outlinewidth": 0,
              "ticks": ""
             }
            },
            "type": "scatter"
           }
          ],
          "scatter3d": [
           {
            "line": {
             "colorbar": {
              "outlinewidth": 0,
              "ticks": ""
             }
            },
            "marker": {
             "colorbar": {
              "outlinewidth": 0,
              "ticks": ""
             }
            },
            "type": "scatter3d"
           }
          ],
          "scattercarpet": [
           {
            "marker": {
             "colorbar": {
              "outlinewidth": 0,
              "ticks": ""
             }
            },
            "type": "scattercarpet"
           }
          ],
          "scattergeo": [
           {
            "marker": {
             "colorbar": {
              "outlinewidth": 0,
              "ticks": ""
             }
            },
            "type": "scattergeo"
           }
          ],
          "scattergl": [
           {
            "marker": {
             "colorbar": {
              "outlinewidth": 0,
              "ticks": ""
             }
            },
            "type": "scattergl"
           }
          ],
          "scattermapbox": [
           {
            "marker": {
             "colorbar": {
              "outlinewidth": 0,
              "ticks": ""
             }
            },
            "type": "scattermapbox"
           }
          ],
          "scatterpolar": [
           {
            "marker": {
             "colorbar": {
              "outlinewidth": 0,
              "ticks": ""
             }
            },
            "type": "scatterpolar"
           }
          ],
          "scatterpolargl": [
           {
            "marker": {
             "colorbar": {
              "outlinewidth": 0,
              "ticks": ""
             }
            },
            "type": "scatterpolargl"
           }
          ],
          "scatterternary": [
           {
            "marker": {
             "colorbar": {
              "outlinewidth": 0,
              "ticks": ""
             }
            },
            "type": "scatterternary"
           }
          ],
          "surface": [
           {
            "colorbar": {
             "outlinewidth": 0,
             "ticks": ""
            },
            "colorscale": [
             [
              0,
              "#0d0887"
             ],
             [
              0.1111111111111111,
              "#46039f"
             ],
             [
              0.2222222222222222,
              "#7201a8"
             ],
             [
              0.3333333333333333,
              "#9c179e"
             ],
             [
              0.4444444444444444,
              "#bd3786"
             ],
             [
              0.5555555555555556,
              "#d8576b"
             ],
             [
              0.6666666666666666,
              "#ed7953"
             ],
             [
              0.7777777777777778,
              "#fb9f3a"
             ],
             [
              0.8888888888888888,
              "#fdca26"
             ],
             [
              1,
              "#f0f921"
             ]
            ],
            "type": "surface"
           }
          ],
          "table": [
           {
            "cells": {
             "fill": {
              "color": "#EBF0F8"
             },
             "line": {
              "color": "white"
             }
            },
            "header": {
             "fill": {
              "color": "#C8D4E3"
             },
             "line": {
              "color": "white"
             }
            },
            "type": "table"
           }
          ]
         },
         "layout": {
          "annotationdefaults": {
           "arrowcolor": "#2a3f5f",
           "arrowhead": 0,
           "arrowwidth": 1
          },
          "autotypenumbers": "strict",
          "coloraxis": {
           "colorbar": {
            "outlinewidth": 0,
            "ticks": ""
           }
          },
          "colorscale": {
           "diverging": [
            [
             0,
             "#8e0152"
            ],
            [
             0.1,
             "#c51b7d"
            ],
            [
             0.2,
             "#de77ae"
            ],
            [
             0.3,
             "#f1b6da"
            ],
            [
             0.4,
             "#fde0ef"
            ],
            [
             0.5,
             "#f7f7f7"
            ],
            [
             0.6,
             "#e6f5d0"
            ],
            [
             0.7,
             "#b8e186"
            ],
            [
             0.8,
             "#7fbc41"
            ],
            [
             0.9,
             "#4d9221"
            ],
            [
             1,
             "#276419"
            ]
           ],
           "sequential": [
            [
             0,
             "#0d0887"
            ],
            [
             0.1111111111111111,
             "#46039f"
            ],
            [
             0.2222222222222222,
             "#7201a8"
            ],
            [
             0.3333333333333333,
             "#9c179e"
            ],
            [
             0.4444444444444444,
             "#bd3786"
            ],
            [
             0.5555555555555556,
             "#d8576b"
            ],
            [
             0.6666666666666666,
             "#ed7953"
            ],
            [
             0.7777777777777778,
             "#fb9f3a"
            ],
            [
             0.8888888888888888,
             "#fdca26"
            ],
            [
             1,
             "#f0f921"
            ]
           ],
           "sequentialminus": [
            [
             0,
             "#0d0887"
            ],
            [
             0.1111111111111111,
             "#46039f"
            ],
            [
             0.2222222222222222,
             "#7201a8"
            ],
            [
             0.3333333333333333,
             "#9c179e"
            ],
            [
             0.4444444444444444,
             "#bd3786"
            ],
            [
             0.5555555555555556,
             "#d8576b"
            ],
            [
             0.6666666666666666,
             "#ed7953"
            ],
            [
             0.7777777777777778,
             "#fb9f3a"
            ],
            [
             0.8888888888888888,
             "#fdca26"
            ],
            [
             1,
             "#f0f921"
            ]
           ]
          },
          "colorway": [
           "#636efa",
           "#EF553B",
           "#00cc96",
           "#ab63fa",
           "#FFA15A",
           "#19d3f3",
           "#FF6692",
           "#B6E880",
           "#FF97FF",
           "#FECB52"
          ],
          "font": {
           "color": "#2a3f5f"
          },
          "geo": {
           "bgcolor": "white",
           "lakecolor": "white",
           "landcolor": "#E5ECF6",
           "showlakes": true,
           "showland": true,
           "subunitcolor": "white"
          },
          "hoverlabel": {
           "align": "left"
          },
          "hovermode": "closest",
          "mapbox": {
           "style": "light"
          },
          "paper_bgcolor": "white",
          "plot_bgcolor": "#E5ECF6",
          "polar": {
           "angularaxis": {
            "gridcolor": "white",
            "linecolor": "white",
            "ticks": ""
           },
           "bgcolor": "#E5ECF6",
           "radialaxis": {
            "gridcolor": "white",
            "linecolor": "white",
            "ticks": ""
           }
          },
          "scene": {
           "xaxis": {
            "backgroundcolor": "#E5ECF6",
            "gridcolor": "white",
            "gridwidth": 2,
            "linecolor": "white",
            "showbackground": true,
            "ticks": "",
            "zerolinecolor": "white"
           },
           "yaxis": {
            "backgroundcolor": "#E5ECF6",
            "gridcolor": "white",
            "gridwidth": 2,
            "linecolor": "white",
            "showbackground": true,
            "ticks": "",
            "zerolinecolor": "white"
           },
           "zaxis": {
            "backgroundcolor": "#E5ECF6",
            "gridcolor": "white",
            "gridwidth": 2,
            "linecolor": "white",
            "showbackground": true,
            "ticks": "",
            "zerolinecolor": "white"
           }
          },
          "shapedefaults": {
           "line": {
            "color": "#2a3f5f"
           }
          },
          "ternary": {
           "aaxis": {
            "gridcolor": "white",
            "linecolor": "white",
            "ticks": ""
           },
           "baxis": {
            "gridcolor": "white",
            "linecolor": "white",
            "ticks": ""
           },
           "bgcolor": "#E5ECF6",
           "caxis": {
            "gridcolor": "white",
            "linecolor": "white",
            "ticks": ""
           }
          },
          "title": {
           "x": 0.05
          },
          "xaxis": {
           "automargin": true,
           "gridcolor": "white",
           "linecolor": "white",
           "ticks": "",
           "title": {
            "standoff": 15
           },
           "zerolinecolor": "white",
           "zerolinewidth": 2
          },
          "yaxis": {
           "automargin": true,
           "gridcolor": "white",
           "linecolor": "white",
           "ticks": "",
           "title": {
            "standoff": 15
           },
           "zerolinecolor": "white",
           "zerolinewidth": 2
          }
         }
        }
       }
      }
     },
     "metadata": {},
     "output_type": "display_data"
    }
   ],
   "source": [
    "fig = go.Figure()\n",
    "fig.add_trace(go.Box(y=up['High']-up['Open'], name='High - Open'))\n",
    "fig.add_trace(go.Box(y=up['High']-up['Close'], name='High - Close'))\n",
    "\n",
    "fig.show()"
   ]
  },
  {
   "cell_type": "code",
   "execution_count": 61,
   "metadata": {},
   "outputs": [
    {
     "data": {
      "application/vnd.plotly.v1+json": {
       "config": {
        "plotlyServerURL": "https://plot.ly"
       },
       "data": [
        {
         "name": "High - Open",
         "type": "box",
         "y": [
          -0.032169,
          -0.02382799999999996,
          -0.029849000000000014,
          -0.016596999999999973,
          -0.004720999999999975,
          -0.07413800000000004,
          -0.04172699999999996,
          -0.013978999999999964,
          -0.019233000000000056,
          -0.026778999999999997,
          -0.005857999999999919,
          -0.061004999999999976,
          -0.023280999999999996,
          -0.021208000000000005,
          -0.029170999999999947,
          -0.019352000000000036,
          -0.0015899999999999803,
          -0.05622499999999997,
          -0.01098599999999994,
          -0.007415999999999978,
          -0.0003790000000000182,
          -0.028028000000000053,
          -0.007072000000000078,
          -0.03203700000000009,
          -0.00917100000000004,
          -0.008716000000000057,
          -0.009836000000000067,
          -0.01585599999999998,
          -0.008025999999999978,
          -0.0015919999999999268,
          -0.011280999999999985,
          -0.01334600000000008,
          -0.03396699999999997,
          -0.03406500000000001,
          -0.0073270000000000834,
          -0.01579699999999995,
          -0.02851899999999996,
          -0.008994999999999975,
          -0.005695000000000006,
          -0.01810300000000009,
          -0.016695999999999933,
          -0.002531000000000061,
          -0.014554999999999985,
          -0.01880499999999996,
          -0.05140100000000003,
          -0.04088999999999987,
          -0.05248699999999995,
          -0.03239600000000009,
          -0.032639000000000085,
          -0.004718,
          -0.027579999999999938,
          -0.020656000000000008,
          -0.00908600000000015,
          -0.027787999999999924,
          -0.014637000000000011,
          -0.02801000000000009,
          -0.01764699999999997,
          0,
          -0.003290999999999933,
          -0.02041000000000004,
          -0.006527999999999867,
          -0.01637400000000011,
          -0.008525000000000116,
          -0.0042040000000000965,
          -0.04673700000000003,
          -0.0066430000000000655,
          -0.004593999999999987,
          -0.008409,
          -0.015195999999999987,
          -0.002897999999999845,
          -0.0026000000000001577,
          -0.027336999999999945,
          -0.024987000000000092,
          -0.008186999999999944,
          -0.029563000000000006,
          -0.01153599999999999,
          -0.0033410000000000384,
          -0.01133099999999998,
          -0.00410099999999991,
          -0.001882999999999857,
          -0.01112499999999994,
          -0.0028680000000000927,
          -0.016988000000000003,
          -0.013161999999999896,
          -0.00645999999999991,
          -0.00897699999999979,
          -0.005098000000000047,
          0,
          -0.014485999999999999,
          -0.020704000000000056,
          -0.020156000000000063,
          -0.020337999999999967,
          -0.026759999999999895,
          -0.013747999999999871,
          -0.0034520000000000106,
          -0.051176,
          -0.003493999999999997,
          -0.017815000000000025,
          -0.05371499999999996,
          -0.011641000000000012,
          -0.01267700000000005,
          -0.02753899999999998,
          -0.007209000000000021,
          -0.031908999999999965,
          -0.006199000000000066,
          -0.005869000000000013,
          -0.009562999999999988,
          -0.025063000000000057,
          -0.020923000000000025,
          -0.014001000000000041,
          -0.01007900000000006,
          -0.006295999999999968,
          -0.013418999999999959,
          -0.000540000000000096,
          -0.010284999999999989,
          -0.030008000000000035,
          -0.0061989999999999545,
          -0.005205000000000015,
          -0.010961999999999916,
          -0.012730000000000019,
          -0.0033600000000000296,
          -0.002367000000000008,
          -0.022256000000000054,
          -0.008955999999999964,
          -0.015222000000000069,
          -0.0022330000000000405,
          -0.020214999999999983,
          -0.005955999999999961,
          -0.009066000000000018,
          -0.002451000000000092,
          -0.003563000000000094,
          -0.0047800000000000065,
          -0.009190000000000031,
          -0.022216000000000014,
          -0.007225999999999955,
          -0.003950000000000009,
          -0.006956000000000073,
          -0.012215000000000087,
          -0.024545999999999957,
          -0.010464000000000029,
          -0.008742999999999945,
          -0.020836000000000077,
          -0.005311000000000066,
          0,
          -0.009882999999999975,
          -0.008802000000000088,
          -0.007527999999999979,
          -0.008997000000000033,
          -0.014100000000000001,
          -0.004518000000000022,
          -0.01380300000000001,
          -0.016561000000000048,
          -0.00822999999999996,
          -0.0028280000000000527,
          -0.0024759999999999227,
          -0.0021969999999998935,
          -0.008516999999999997,
          -0.00445300000000004,
          -0.007626000000000022,
          -0.003247,
          0,
          -0.0008940000000000614,
          -0.012514000000000025,
          -0.013151999999999942,
          -0.00017900000000004024,
          -0.02082700000000004,
          -0.008081000000000005,
          -0.0014140000000000263,
          -0.006036000000000041,
          -0.006028999999999951,
          -0.000060000000000060005,
          -0.007220000000000004,
          -0.01433000000000001,
          -0.0024450000000000305,
          -0.024760999999999977,
          -0.011067999999999967,
          -0.0013050000000000006,
          -0.008575,
          -0.005763000000000018,
          -0.003599999999999992,
          -0.011035000000000017,
          -0.000016000000000016
         ]
        },
        {
         "name": "High - Close",
         "type": "box",
         "y": [
          -0.10678399999999999,
          -0.16402799999999995,
          -0.043034999999999934,
          -0.03677200000000003,
          -0.02652599999999994,
          -0.08714500000000003,
          -0.08770299999999998,
          -0.06388699999999992,
          -0.029082000000000052,
          -0.029510000000000036,
          -0.015562999999999994,
          -0.07700499999999999,
          -0.10287199999999996,
          -0.054618000000000055,
          -0.03301999999999994,
          -0.04928100000000002,
          -0.05937400000000004,
          -0.05691799999999991,
          -0.02823500000000001,
          -0.02914300000000003,
          -0.012726000000000015,
          -0.04314400000000007,
          -0.018287000000000053,
          -0.03289200000000003,
          -0.014499999999999957,
          -0.04966000000000004,
          -0.030483000000000038,
          -0.03253399999999995,
          -0.008855999999999975,
          -0.020318999999999976,
          -0.031710999999999934,
          -0.09321900000000005,
          -0.04934800000000006,
          -0.03633799999999998,
          -0.022402000000000033,
          -0.032652000000000014,
          -0.030749999999999944,
          -0.022525999999999935,
          -0.07484100000000005,
          -0.05764400000000003,
          -0.05060599999999993,
          -0.163775,
          -0.13736900000000007,
          -0.2093830000000001,
          -0.057916999999999996,
          -0.08932499999999988,
          -0.140671,
          -0.06216400000000011,
          -0.04296699999999998,
          -0.025176000000000087,
          -0.06309799999999988,
          -0.1358309999999998,
          -0.09534299999999996,
          -0.07576199999999988,
          -0.03341900000000009,
          -0.06530800000000014,
          -0.06801499999999994,
          -0.08209599999999995,
          -0.026599999999999957,
          -0.05976800000000004,
          -0.03773199999999988,
          -0.040788000000000046,
          -0.018280000000000074,
          -0.13445600000000002,
          -0.049887000000000015,
          -0.04040100000000002,
          -0.029716999999999993,
          -0.09726900000000005,
          -0.032677999999999985,
          -0.046713000000000005,
          -0.1006720000000001,
          -0.027924999999999978,
          -0.05141300000000015,
          -0.013012000000000024,
          -0.036578,
          -0.019723999999999853,
          -0.053757000000000055,
          -0.015992000000000006,
          -0.015951999999999966,
          -0.014864999999999906,
          -0.07470600000000005,
          -0.025324000000000124,
          -0.019559000000000104,
          -0.04048300000000005,
          -0.050078999999999985,
          -0.08183499999999988,
          -0.06943199999999994,
          -0.06134700000000004,
          -0.04005100000000006,
          -0.023172999999999888,
          -0.026343000000000005,
          -0.07090699999999983,
          -0.03334399999999982,
          -0.04371099999999983,
          -0.010597000000000079,
          -0.07217800000000008,
          -0.025633000000000017,
          -0.02508100000000002,
          -0.07595600000000002,
          -0.05740900000000004,
          -0.04992799999999997,
          -0.030117999999999978,
          -0.020658999999999983,
          -0.04761700000000002,
          -0.03457100000000002,
          -0.01372300000000004,
          -0.053452000000000055,
          -0.09327600000000003,
          -0.027521000000000018,
          -0.05246200000000001,
          -0.02250399999999997,
          -0.01167600000000002,
          -0.035148999999999986,
          -0.018731000000000053,
          -0.019961000000000007,
          -0.03705400000000003,
          -0.012970999999999955,
          -0.03640299999999996,
          -0.03990199999999999,
          -0.018669000000000047,
          -0.010473999999999983,
          -0.03493000000000002,
          -0.027675000000000005,
          -0.01348399999999994,
          -0.019114999999999993,
          -0.006677000000000044,
          -0.03630099999999992,
          -0.01618300000000006,
          -0.015334999999999988,
          -0.050708000000000086,
          -0.014859000000000067,
          -0.021299999999999986,
          -0.15341700000000003,
          -0.07203300000000001,
          -0.069384,
          -0.054037,
          -0.025560000000000027,
          -0.04887800000000009,
          -0.04404599999999992,
          -0.08310899999999999,
          -0.06885599999999992,
          -0.023627999999999982,
          -0.047421000000000046,
          -0.04622999999999999,
          -0.07453199999999993,
          -0.022082000000000046,
          -0.03431899999999999,
          -0.009063999999999961,
          -0.018915000000000015,
          -0.02576400000000001,
          -0.04599200000000003,
          -0.01731400000000005,
          -0.013341000000000047,
          -0.010446999999999984,
          -0.027003999999999917,
          -0.008092999999999906,
          -0.011388999999999982,
          -0.017484000000000055,
          -0.025684999999999958,
          -0.02988600000000008,
          -0.009543999999999997,
          -0.022338999999999998,
          -0.01985199999999998,
          -0.016232999999999942,
          -0.059058000000000055,
          -0.03565699999999994,
          -0.015101999999999949,
          -0.011938000000000004,
          -0.026794000000000096,
          -0.012478999999999907,
          -0.041730000000000045,
          -0.010958000000000023,
          -0.03551600000000005,
          -0.040684,
          -0.029115999999999975,
          -0.030752,
          -0.016470999999999958,
          -0.022489000000000037,
          -0.009308000000000038,
          -0.011246000000000034,
          -0.015066999999999997,
          -0.003709999999999991
         ]
        }
       ],
       "layout": {
        "template": {
         "data": {
          "bar": [
           {
            "error_x": {
             "color": "#2a3f5f"
            },
            "error_y": {
             "color": "#2a3f5f"
            },
            "marker": {
             "line": {
              "color": "#E5ECF6",
              "width": 0.5
             },
             "pattern": {
              "fillmode": "overlay",
              "size": 10,
              "solidity": 0.2
             }
            },
            "type": "bar"
           }
          ],
          "barpolar": [
           {
            "marker": {
             "line": {
              "color": "#E5ECF6",
              "width": 0.5
             },
             "pattern": {
              "fillmode": "overlay",
              "size": 10,
              "solidity": 0.2
             }
            },
            "type": "barpolar"
           }
          ],
          "carpet": [
           {
            "aaxis": {
             "endlinecolor": "#2a3f5f",
             "gridcolor": "white",
             "linecolor": "white",
             "minorgridcolor": "white",
             "startlinecolor": "#2a3f5f"
            },
            "baxis": {
             "endlinecolor": "#2a3f5f",
             "gridcolor": "white",
             "linecolor": "white",
             "minorgridcolor": "white",
             "startlinecolor": "#2a3f5f"
            },
            "type": "carpet"
           }
          ],
          "choropleth": [
           {
            "colorbar": {
             "outlinewidth": 0,
             "ticks": ""
            },
            "type": "choropleth"
           }
          ],
          "contour": [
           {
            "colorbar": {
             "outlinewidth": 0,
             "ticks": ""
            },
            "colorscale": [
             [
              0,
              "#0d0887"
             ],
             [
              0.1111111111111111,
              "#46039f"
             ],
             [
              0.2222222222222222,
              "#7201a8"
             ],
             [
              0.3333333333333333,
              "#9c179e"
             ],
             [
              0.4444444444444444,
              "#bd3786"
             ],
             [
              0.5555555555555556,
              "#d8576b"
             ],
             [
              0.6666666666666666,
              "#ed7953"
             ],
             [
              0.7777777777777778,
              "#fb9f3a"
             ],
             [
              0.8888888888888888,
              "#fdca26"
             ],
             [
              1,
              "#f0f921"
             ]
            ],
            "type": "contour"
           }
          ],
          "contourcarpet": [
           {
            "colorbar": {
             "outlinewidth": 0,
             "ticks": ""
            },
            "type": "contourcarpet"
           }
          ],
          "heatmap": [
           {
            "colorbar": {
             "outlinewidth": 0,
             "ticks": ""
            },
            "colorscale": [
             [
              0,
              "#0d0887"
             ],
             [
              0.1111111111111111,
              "#46039f"
             ],
             [
              0.2222222222222222,
              "#7201a8"
             ],
             [
              0.3333333333333333,
              "#9c179e"
             ],
             [
              0.4444444444444444,
              "#bd3786"
             ],
             [
              0.5555555555555556,
              "#d8576b"
             ],
             [
              0.6666666666666666,
              "#ed7953"
             ],
             [
              0.7777777777777778,
              "#fb9f3a"
             ],
             [
              0.8888888888888888,
              "#fdca26"
             ],
             [
              1,
              "#f0f921"
             ]
            ],
            "type": "heatmap"
           }
          ],
          "heatmapgl": [
           {
            "colorbar": {
             "outlinewidth": 0,
             "ticks": ""
            },
            "colorscale": [
             [
              0,
              "#0d0887"
             ],
             [
              0.1111111111111111,
              "#46039f"
             ],
             [
              0.2222222222222222,
              "#7201a8"
             ],
             [
              0.3333333333333333,
              "#9c179e"
             ],
             [
              0.4444444444444444,
              "#bd3786"
             ],
             [
              0.5555555555555556,
              "#d8576b"
             ],
             [
              0.6666666666666666,
              "#ed7953"
             ],
             [
              0.7777777777777778,
              "#fb9f3a"
             ],
             [
              0.8888888888888888,
              "#fdca26"
             ],
             [
              1,
              "#f0f921"
             ]
            ],
            "type": "heatmapgl"
           }
          ],
          "histogram": [
           {
            "marker": {
             "pattern": {
              "fillmode": "overlay",
              "size": 10,
              "solidity": 0.2
             }
            },
            "type": "histogram"
           }
          ],
          "histogram2d": [
           {
            "colorbar": {
             "outlinewidth": 0,
             "ticks": ""
            },
            "colorscale": [
             [
              0,
              "#0d0887"
             ],
             [
              0.1111111111111111,
              "#46039f"
             ],
             [
              0.2222222222222222,
              "#7201a8"
             ],
             [
              0.3333333333333333,
              "#9c179e"
             ],
             [
              0.4444444444444444,
              "#bd3786"
             ],
             [
              0.5555555555555556,
              "#d8576b"
             ],
             [
              0.6666666666666666,
              "#ed7953"
             ],
             [
              0.7777777777777778,
              "#fb9f3a"
             ],
             [
              0.8888888888888888,
              "#fdca26"
             ],
             [
              1,
              "#f0f921"
             ]
            ],
            "type": "histogram2d"
           }
          ],
          "histogram2dcontour": [
           {
            "colorbar": {
             "outlinewidth": 0,
             "ticks": ""
            },
            "colorscale": [
             [
              0,
              "#0d0887"
             ],
             [
              0.1111111111111111,
              "#46039f"
             ],
             [
              0.2222222222222222,
              "#7201a8"
             ],
             [
              0.3333333333333333,
              "#9c179e"
             ],
             [
              0.4444444444444444,
              "#bd3786"
             ],
             [
              0.5555555555555556,
              "#d8576b"
             ],
             [
              0.6666666666666666,
              "#ed7953"
             ],
             [
              0.7777777777777778,
              "#fb9f3a"
             ],
             [
              0.8888888888888888,
              "#fdca26"
             ],
             [
              1,
              "#f0f921"
             ]
            ],
            "type": "histogram2dcontour"
           }
          ],
          "mesh3d": [
           {
            "colorbar": {
             "outlinewidth": 0,
             "ticks": ""
            },
            "type": "mesh3d"
           }
          ],
          "parcoords": [
           {
            "line": {
             "colorbar": {
              "outlinewidth": 0,
              "ticks": ""
             }
            },
            "type": "parcoords"
           }
          ],
          "pie": [
           {
            "automargin": true,
            "type": "pie"
           }
          ],
          "scatter": [
           {
            "marker": {
             "colorbar": {
              "outlinewidth": 0,
              "ticks": ""
             }
            },
            "type": "scatter"
           }
          ],
          "scatter3d": [
           {
            "line": {
             "colorbar": {
              "outlinewidth": 0,
              "ticks": ""
             }
            },
            "marker": {
             "colorbar": {
              "outlinewidth": 0,
              "ticks": ""
             }
            },
            "type": "scatter3d"
           }
          ],
          "scattercarpet": [
           {
            "marker": {
             "colorbar": {
              "outlinewidth": 0,
              "ticks": ""
             }
            },
            "type": "scattercarpet"
           }
          ],
          "scattergeo": [
           {
            "marker": {
             "colorbar": {
              "outlinewidth": 0,
              "ticks": ""
             }
            },
            "type": "scattergeo"
           }
          ],
          "scattergl": [
           {
            "marker": {
             "colorbar": {
              "outlinewidth": 0,
              "ticks": ""
             }
            },
            "type": "scattergl"
           }
          ],
          "scattermapbox": [
           {
            "marker": {
             "colorbar": {
              "outlinewidth": 0,
              "ticks": ""
             }
            },
            "type": "scattermapbox"
           }
          ],
          "scatterpolar": [
           {
            "marker": {
             "colorbar": {
              "outlinewidth": 0,
              "ticks": ""
             }
            },
            "type": "scatterpolar"
           }
          ],
          "scatterpolargl": [
           {
            "marker": {
             "colorbar": {
              "outlinewidth": 0,
              "ticks": ""
             }
            },
            "type": "scatterpolargl"
           }
          ],
          "scatterternary": [
           {
            "marker": {
             "colorbar": {
              "outlinewidth": 0,
              "ticks": ""
             }
            },
            "type": "scatterternary"
           }
          ],
          "surface": [
           {
            "colorbar": {
             "outlinewidth": 0,
             "ticks": ""
            },
            "colorscale": [
             [
              0,
              "#0d0887"
             ],
             [
              0.1111111111111111,
              "#46039f"
             ],
             [
              0.2222222222222222,
              "#7201a8"
             ],
             [
              0.3333333333333333,
              "#9c179e"
             ],
             [
              0.4444444444444444,
              "#bd3786"
             ],
             [
              0.5555555555555556,
              "#d8576b"
             ],
             [
              0.6666666666666666,
              "#ed7953"
             ],
             [
              0.7777777777777778,
              "#fb9f3a"
             ],
             [
              0.8888888888888888,
              "#fdca26"
             ],
             [
              1,
              "#f0f921"
             ]
            ],
            "type": "surface"
           }
          ],
          "table": [
           {
            "cells": {
             "fill": {
              "color": "#EBF0F8"
             },
             "line": {
              "color": "white"
             }
            },
            "header": {
             "fill": {
              "color": "#C8D4E3"
             },
             "line": {
              "color": "white"
             }
            },
            "type": "table"
           }
          ]
         },
         "layout": {
          "annotationdefaults": {
           "arrowcolor": "#2a3f5f",
           "arrowhead": 0,
           "arrowwidth": 1
          },
          "autotypenumbers": "strict",
          "coloraxis": {
           "colorbar": {
            "outlinewidth": 0,
            "ticks": ""
           }
          },
          "colorscale": {
           "diverging": [
            [
             0,
             "#8e0152"
            ],
            [
             0.1,
             "#c51b7d"
            ],
            [
             0.2,
             "#de77ae"
            ],
            [
             0.3,
             "#f1b6da"
            ],
            [
             0.4,
             "#fde0ef"
            ],
            [
             0.5,
             "#f7f7f7"
            ],
            [
             0.6,
             "#e6f5d0"
            ],
            [
             0.7,
             "#b8e186"
            ],
            [
             0.8,
             "#7fbc41"
            ],
            [
             0.9,
             "#4d9221"
            ],
            [
             1,
             "#276419"
            ]
           ],
           "sequential": [
            [
             0,
             "#0d0887"
            ],
            [
             0.1111111111111111,
             "#46039f"
            ],
            [
             0.2222222222222222,
             "#7201a8"
            ],
            [
             0.3333333333333333,
             "#9c179e"
            ],
            [
             0.4444444444444444,
             "#bd3786"
            ],
            [
             0.5555555555555556,
             "#d8576b"
            ],
            [
             0.6666666666666666,
             "#ed7953"
            ],
            [
             0.7777777777777778,
             "#fb9f3a"
            ],
            [
             0.8888888888888888,
             "#fdca26"
            ],
            [
             1,
             "#f0f921"
            ]
           ],
           "sequentialminus": [
            [
             0,
             "#0d0887"
            ],
            [
             0.1111111111111111,
             "#46039f"
            ],
            [
             0.2222222222222222,
             "#7201a8"
            ],
            [
             0.3333333333333333,
             "#9c179e"
            ],
            [
             0.4444444444444444,
             "#bd3786"
            ],
            [
             0.5555555555555556,
             "#d8576b"
            ],
            [
             0.6666666666666666,
             "#ed7953"
            ],
            [
             0.7777777777777778,
             "#fb9f3a"
            ],
            [
             0.8888888888888888,
             "#fdca26"
            ],
            [
             1,
             "#f0f921"
            ]
           ]
          },
          "colorway": [
           "#636efa",
           "#EF553B",
           "#00cc96",
           "#ab63fa",
           "#FFA15A",
           "#19d3f3",
           "#FF6692",
           "#B6E880",
           "#FF97FF",
           "#FECB52"
          ],
          "font": {
           "color": "#2a3f5f"
          },
          "geo": {
           "bgcolor": "white",
           "lakecolor": "white",
           "landcolor": "#E5ECF6",
           "showlakes": true,
           "showland": true,
           "subunitcolor": "white"
          },
          "hoverlabel": {
           "align": "left"
          },
          "hovermode": "closest",
          "mapbox": {
           "style": "light"
          },
          "paper_bgcolor": "white",
          "plot_bgcolor": "#E5ECF6",
          "polar": {
           "angularaxis": {
            "gridcolor": "white",
            "linecolor": "white",
            "ticks": ""
           },
           "bgcolor": "#E5ECF6",
           "radialaxis": {
            "gridcolor": "white",
            "linecolor": "white",
            "ticks": ""
           }
          },
          "scene": {
           "xaxis": {
            "backgroundcolor": "#E5ECF6",
            "gridcolor": "white",
            "gridwidth": 2,
            "linecolor": "white",
            "showbackground": true,
            "ticks": "",
            "zerolinecolor": "white"
           },
           "yaxis": {
            "backgroundcolor": "#E5ECF6",
            "gridcolor": "white",
            "gridwidth": 2,
            "linecolor": "white",
            "showbackground": true,
            "ticks": "",
            "zerolinecolor": "white"
           },
           "zaxis": {
            "backgroundcolor": "#E5ECF6",
            "gridcolor": "white",
            "gridwidth": 2,
            "linecolor": "white",
            "showbackground": true,
            "ticks": "",
            "zerolinecolor": "white"
           }
          },
          "shapedefaults": {
           "line": {
            "color": "#2a3f5f"
           }
          },
          "ternary": {
           "aaxis": {
            "gridcolor": "white",
            "linecolor": "white",
            "ticks": ""
           },
           "baxis": {
            "gridcolor": "white",
            "linecolor": "white",
            "ticks": ""
           },
           "bgcolor": "#E5ECF6",
           "caxis": {
            "gridcolor": "white",
            "linecolor": "white",
            "ticks": ""
           }
          },
          "title": {
           "x": 0.05
          },
          "xaxis": {
           "automargin": true,
           "gridcolor": "white",
           "linecolor": "white",
           "ticks": "",
           "title": {
            "standoff": 15
           },
           "zerolinecolor": "white",
           "zerolinewidth": 2
          },
          "yaxis": {
           "automargin": true,
           "gridcolor": "white",
           "linecolor": "white",
           "ticks": "",
           "title": {
            "standoff": 15
           },
           "zerolinecolor": "white",
           "zerolinewidth": 2
          }
         }
        }
       }
      }
     },
     "metadata": {},
     "output_type": "display_data"
    }
   ],
   "source": [
    "fig = go.Figure()\n",
    "fig.add_trace(go.Box(y=up['Low']-up['Open'], name='High - Open'))\n",
    "fig.add_trace(go.Box(y=up['Low']-up['Close'], name='High - Close'))\n",
    "\n",
    "fig.show()"
   ]
  },
  {
   "cell_type": "markdown",
   "metadata": {},
   "source": [
    "#### Direction: Down"
   ]
  },
  {
   "cell_type": "code",
   "execution_count": 62,
   "metadata": {},
   "outputs": [
    {
     "data": {
      "application/vnd.plotly.v1+json": {
       "config": {
        "plotlyServerURL": "https://plot.ly"
       },
       "data": [
        {
         "name": "High - Close",
         "type": "box",
         "y": [
          0.088638,
          0.07507500000000011,
          0.07466099999999998,
          0.11319100000000004,
          0.05864499999999995,
          0.030740999999999907,
          0.015196000000000098,
          0.04146700000000003,
          0.04727199999999998,
          0.0451959999999999,
          0.16940199999999994,
          0.10385200000000006,
          0.07514600000000005,
          0.010699000000000014,
          0.043605000000000005,
          0.010523999999999978,
          0.04135299999999997,
          0.021731999999999974,
          0.03125100000000003,
          0.022711000000000037,
          0.027031999999999945,
          0.020717999999999903,
          0.02955899999999989,
          0.02602199999999999,
          0.015291000000000055,
          0.031796999999999964,
          0.03903699999999999,
          0.005410999999999944,
          0.009915000000000007,
          0.05036099999999999,
          0.031685000000000074,
          0.059642000000000084,
          0.07818599999999998,
          0.13590600000000008,
          0.124479,
          0.06476199999999999,
          0.12593500000000013,
          0.11104499999999984,
          0.052199000000000106,
          0.026850999999999958,
          0.047250000000000014,
          0.04013800000000001,
          0.26639599999999986,
          0.04792200000000002,
          0.04670399999999986,
          0.18445200000000006,
          0.06123600000000007,
          0.03770399999999996,
          0.03671599999999997,
          0.03360800000000008,
          0.13325399999999998,
          0.08297900000000002,
          0.01443099999999986,
          0.05727299999999991,
          0.015515999999999974,
          0.05780200000000002,
          0.04890400000000006,
          0.03308500000000003,
          0.016855999999999982,
          0.02824899999999997,
          0.025183000000000177,
          0.02847899999999992,
          0.08921000000000001,
          0.036480999999999986,
          0.0504239999999998,
          0.04643599999999992,
          0.02237700000000009,
          0.07435499999999995,
          0.03750500000000012,
          0.012270000000000003,
          0.12973999999999997,
          0.03834800000000005,
          0.05172500000000002,
          0.0408710000000001,
          0.020848999999999895,
          0.028647999999999785,
          0.1542889999999999,
          0.044526000000000066,
          0.011338999999999988,
          0.04851200000000011,
          0.08372000000000002,
          0.11637699999999995,
          0.037905999999999995,
          0.03329700000000013,
          0.03247399999999989,
          0.03278900000000018,
          0.11178700000000008,
          0.027339000000000113,
          0.018603000000000036,
          0.06307600000000002,
          0.07963500000000001,
          0.05818000000000001,
          0.027179000000000064,
          0.06926899999999991,
          0.082314,
          0.06304100000000001,
          0.030808999999999975,
          0.02930300000000008,
          0.08467799999999992,
          0.01286200000000004,
          0.07379599999999997,
          0.048334999999999906,
          0.021777000000000046,
          0.026221999999999968,
          0.01940300000000006,
          0.06117499999999998,
          0.01819599999999999,
          0.027395999999999976,
          0.01917800000000003,
          0.03262299999999996,
          0.0050080000000000124,
          0.017437999999999954,
          0.015417999999999932,
          0.013406000000000029,
          0.04216200000000003,
          0.092507,
          0.055750999999999995,
          0.016631000000000062,
          0.014737999999999918,
          0.019365000000000077,
          0.029212000000000016,
          0.03843999999999992,
          0.06460500000000002,
          0.06971500000000008,
          0.03402700000000003,
          0.008256000000000041,
          0.013341000000000047,
          0.07696000000000003,
          0.04437599999999997,
          0.09628399999999993,
          0.04017700000000002,
          0.01661900000000005,
          0.03721399999999997,
          0.04288100000000006,
          0.01639500000000005,
          0.03173999999999999,
          0.04038000000000008,
          0.03238999999999992,
          0.02838099999999999,
          0.00831000000000004,
          0.03803499999999993,
          0.059374999999999956,
          0.04228100000000001,
          0.009028000000000036,
          0.014693000000000067,
          0.02582899999999999,
          0.01895799999999992,
          0.026441000000000048,
          0.056302000000000074,
          0.023681000000000063,
          0.015701000000000076,
          0.01564500000000002,
          0.057091,
          0.0389290000000001,
          0.015851999999999977,
          0.06139900000000009,
          0.015287999999999968,
          0.031254000000000004,
          0.022877000000000036,
          0.031584000000000056,
          0.018967999999999985,
          0.01696399999999998,
          0.013090999999999964,
          0.004514000000000018,
          0.062397000000000036,
          0.010981000000000019,
          0.03420299999999998,
          0.04005099999999995,
          0.020234000000000085,
          0.05615099999999995,
          0.021493000000000095,
          0.016106999999999982,
          0.08305400000000002,
          0.10824699999999993,
          0.04127700000000001,
          0.02506999999999998,
          0.03510099999999999,
          0.02636900000000003,
          0.023164000000000018,
          0.007180999999999993,
          0.016948999999999992,
          0.019493000000000038,
          0.0007530000000000037
         ]
        },
        {
         "name": "High - Open",
         "type": "box",
         "y": [
          0.05753699999999995,
          0.00016499999999997073,
          0.027967999999999993,
          0.027628000000000097,
          0.0065029999999999255,
          0.009943999999999953,
          0,
          0.006520999999999999,
          0.0025960000000000427,
          0.008562999999999987,
          0.004994999999999972,
          0.04168700000000003,
          0.01555799999999996,
          0.006160000000000054,
          0,
          0.007396999999999987,
          0,
          0.00805100000000003,
          0.0016180000000000083,
          0.01095299999999999,
          0.020867999999999998,
          0.010794999999999999,
          0.0064949999999999175,
          0.019247000000000014,
          0.008225000000000038,
          0.0021280000000000188,
          0.010751000000000066,
          0.0025729999999999364,
          0.005538999999999961,
          0.03034199999999998,
          0.005948000000000064,
          0.021647000000000083,
          0.030171999999999866,
          0.04197000000000006,
          0.03639999999999999,
          0.017316999999999805,
          0.015139000000000014,
          0.011722999999999928,
          0.005353000000000163,
          0.021759000000000084,
          0.006348999999999938,
          0.005215999999999887,
          0.0020569999999999755,
          0.021957000000000004,
          0.04582299999999995,
          0.15414499999999998,
          0.0064910000000000245,
          0.007958000000000132,
          0.011436000000000002,
          0.006868000000000096,
          0.0014220000000000343,
          0.036964,
          0.011946000000000012,
          0.0007419999999997984,
          0.011400999999999994,
          0.03552900000000003,
          0.01953400000000005,
          0.02970000000000006,
          0.004089000000000009,
          0.02097199999999999,
          0.01602300000000012,
          0.023606000000000016,
          0.06738699999999986,
          0,
          0.04404699999999995,
          0.005211999999999994,
          0.011384999999999978,
          0.018264000000000058,
          0.035978000000000065,
          0.0016770000000001506,
          0.017250999999999905,
          0.018062000000000022,
          0.04320900000000005,
          0.0004870000000001262,
          0.012669000000000041,
          0.005045999999999884,
          0.09047699999999992,
          0.01763300000000001,
          0.008740999999999888,
          0.031058999999999948,
          0,
          0.06204999999999994,
          0.001330999999999971,
          0.009793000000000163,
          0.007395999999999958,
          0.030569999999999986,
          0.0032210000000001404,
          0.02007900000000007,
          0,
          0.011866999999999961,
          0.0025720000000000187,
          0.017065999999999915,
          0.016674999999999995,
          0.06839799999999996,
          0.022385999999999906,
          0.004581999999999975,
          0.00930299999999995,
          0.02260400000000007,
          0.00193500000000002,
          0.00835600000000003,
          0,
          0.011971999999999983,
          0.01325900000000002,
          0,
          0.01122500000000004,
          0.010819000000000023,
          0,
          0.011978000000000044,
          0.004085000000000005,
          0.0014959999999999418,
          0.002654000000000045,
          0.0011809999999999876,
          0.005279999999999951,
          0.0005410000000000137,
          0.021857000000000015,
          0.008635999999999977,
          0.015786999999999995,
          0,
          0.001562999999999981,
          0.005539999999999989,
          0.001454999999999984,
          0.03155199999999991,
          0.023739000000000066,
          0,
          0.02206700000000006,
          0.0006010000000000737,
          0,
          0.005419000000000063,
          0.00013399999999996748,
          0.021589999999999998,
          0.016070999999999946,
          0.014311000000000074,
          0.01954199999999995,
          0.013907000000000003,
          0.000014999999999987246,
          0.01539299999999999,
          0.0007560000000000899,
          0.0034609999999999363,
          0.02565700000000004,
          0.006056000000000061,
          0.008472999999999953,
          0.04373300000000002,
          0.017094000000000054,
          0.0011740000000000084,
          0.001435000000000075,
          0.024890999999999996,
          0.0011169999999999236,
          0.021352000000000038,
          0.00998600000000005,
          0.020865000000000022,
          0.000029000000000056758,
          0.006059999999999954,
          0.0007780000000000564,
          0.0049880000000001035,
          0.008862000000000037,
          0,
          0.01147599999999993,
          0.0026159999999999517,
          0,
          0.012585000000000068,
          0.005001999999999951,
          0.005525000000000002,
          0.004342999999999986,
          0.00018300000000004424,
          0.009762000000000048,
          0.003031000000000006,
          0.0013260000000000494,
          0.015737,
          0.010865000000000014,
          0.00857399999999997,
          0.0012790000000000301,
          0.00023499999999998522,
          0.009475000000000011,
          0.008079999999999976,
          0.013083999999999985,
          0.00016199999999999548,
          0.0036309999999999953,
          0.01757900000000001,
          0.005574999999999997,
          0.004265999999999992,
          0.0043199999999999905,
          0.008204000000000045,
          0.00041399999999996995
         ]
        }
       ],
       "layout": {
        "template": {
         "data": {
          "bar": [
           {
            "error_x": {
             "color": "#2a3f5f"
            },
            "error_y": {
             "color": "#2a3f5f"
            },
            "marker": {
             "line": {
              "color": "#E5ECF6",
              "width": 0.5
             },
             "pattern": {
              "fillmode": "overlay",
              "size": 10,
              "solidity": 0.2
             }
            },
            "type": "bar"
           }
          ],
          "barpolar": [
           {
            "marker": {
             "line": {
              "color": "#E5ECF6",
              "width": 0.5
             },
             "pattern": {
              "fillmode": "overlay",
              "size": 10,
              "solidity": 0.2
             }
            },
            "type": "barpolar"
           }
          ],
          "carpet": [
           {
            "aaxis": {
             "endlinecolor": "#2a3f5f",
             "gridcolor": "white",
             "linecolor": "white",
             "minorgridcolor": "white",
             "startlinecolor": "#2a3f5f"
            },
            "baxis": {
             "endlinecolor": "#2a3f5f",
             "gridcolor": "white",
             "linecolor": "white",
             "minorgridcolor": "white",
             "startlinecolor": "#2a3f5f"
            },
            "type": "carpet"
           }
          ],
          "choropleth": [
           {
            "colorbar": {
             "outlinewidth": 0,
             "ticks": ""
            },
            "type": "choropleth"
           }
          ],
          "contour": [
           {
            "colorbar": {
             "outlinewidth": 0,
             "ticks": ""
            },
            "colorscale": [
             [
              0,
              "#0d0887"
             ],
             [
              0.1111111111111111,
              "#46039f"
             ],
             [
              0.2222222222222222,
              "#7201a8"
             ],
             [
              0.3333333333333333,
              "#9c179e"
             ],
             [
              0.4444444444444444,
              "#bd3786"
             ],
             [
              0.5555555555555556,
              "#d8576b"
             ],
             [
              0.6666666666666666,
              "#ed7953"
             ],
             [
              0.7777777777777778,
              "#fb9f3a"
             ],
             [
              0.8888888888888888,
              "#fdca26"
             ],
             [
              1,
              "#f0f921"
             ]
            ],
            "type": "contour"
           }
          ],
          "contourcarpet": [
           {
            "colorbar": {
             "outlinewidth": 0,
             "ticks": ""
            },
            "type": "contourcarpet"
           }
          ],
          "heatmap": [
           {
            "colorbar": {
             "outlinewidth": 0,
             "ticks": ""
            },
            "colorscale": [
             [
              0,
              "#0d0887"
             ],
             [
              0.1111111111111111,
              "#46039f"
             ],
             [
              0.2222222222222222,
              "#7201a8"
             ],
             [
              0.3333333333333333,
              "#9c179e"
             ],
             [
              0.4444444444444444,
              "#bd3786"
             ],
             [
              0.5555555555555556,
              "#d8576b"
             ],
             [
              0.6666666666666666,
              "#ed7953"
             ],
             [
              0.7777777777777778,
              "#fb9f3a"
             ],
             [
              0.8888888888888888,
              "#fdca26"
             ],
             [
              1,
              "#f0f921"
             ]
            ],
            "type": "heatmap"
           }
          ],
          "heatmapgl": [
           {
            "colorbar": {
             "outlinewidth": 0,
             "ticks": ""
            },
            "colorscale": [
             [
              0,
              "#0d0887"
             ],
             [
              0.1111111111111111,
              "#46039f"
             ],
             [
              0.2222222222222222,
              "#7201a8"
             ],
             [
              0.3333333333333333,
              "#9c179e"
             ],
             [
              0.4444444444444444,
              "#bd3786"
             ],
             [
              0.5555555555555556,
              "#d8576b"
             ],
             [
              0.6666666666666666,
              "#ed7953"
             ],
             [
              0.7777777777777778,
              "#fb9f3a"
             ],
             [
              0.8888888888888888,
              "#fdca26"
             ],
             [
              1,
              "#f0f921"
             ]
            ],
            "type": "heatmapgl"
           }
          ],
          "histogram": [
           {
            "marker": {
             "pattern": {
              "fillmode": "overlay",
              "size": 10,
              "solidity": 0.2
             }
            },
            "type": "histogram"
           }
          ],
          "histogram2d": [
           {
            "colorbar": {
             "outlinewidth": 0,
             "ticks": ""
            },
            "colorscale": [
             [
              0,
              "#0d0887"
             ],
             [
              0.1111111111111111,
              "#46039f"
             ],
             [
              0.2222222222222222,
              "#7201a8"
             ],
             [
              0.3333333333333333,
              "#9c179e"
             ],
             [
              0.4444444444444444,
              "#bd3786"
             ],
             [
              0.5555555555555556,
              "#d8576b"
             ],
             [
              0.6666666666666666,
              "#ed7953"
             ],
             [
              0.7777777777777778,
              "#fb9f3a"
             ],
             [
              0.8888888888888888,
              "#fdca26"
             ],
             [
              1,
              "#f0f921"
             ]
            ],
            "type": "histogram2d"
           }
          ],
          "histogram2dcontour": [
           {
            "colorbar": {
             "outlinewidth": 0,
             "ticks": ""
            },
            "colorscale": [
             [
              0,
              "#0d0887"
             ],
             [
              0.1111111111111111,
              "#46039f"
             ],
             [
              0.2222222222222222,
              "#7201a8"
             ],
             [
              0.3333333333333333,
              "#9c179e"
             ],
             [
              0.4444444444444444,
              "#bd3786"
             ],
             [
              0.5555555555555556,
              "#d8576b"
             ],
             [
              0.6666666666666666,
              "#ed7953"
             ],
             [
              0.7777777777777778,
              "#fb9f3a"
             ],
             [
              0.8888888888888888,
              "#fdca26"
             ],
             [
              1,
              "#f0f921"
             ]
            ],
            "type": "histogram2dcontour"
           }
          ],
          "mesh3d": [
           {
            "colorbar": {
             "outlinewidth": 0,
             "ticks": ""
            },
            "type": "mesh3d"
           }
          ],
          "parcoords": [
           {
            "line": {
             "colorbar": {
              "outlinewidth": 0,
              "ticks": ""
             }
            },
            "type": "parcoords"
           }
          ],
          "pie": [
           {
            "automargin": true,
            "type": "pie"
           }
          ],
          "scatter": [
           {
            "marker": {
             "colorbar": {
              "outlinewidth": 0,
              "ticks": ""
             }
            },
            "type": "scatter"
           }
          ],
          "scatter3d": [
           {
            "line": {
             "colorbar": {
              "outlinewidth": 0,
              "ticks": ""
             }
            },
            "marker": {
             "colorbar": {
              "outlinewidth": 0,
              "ticks": ""
             }
            },
            "type": "scatter3d"
           }
          ],
          "scattercarpet": [
           {
            "marker": {
             "colorbar": {
              "outlinewidth": 0,
              "ticks": ""
             }
            },
            "type": "scattercarpet"
           }
          ],
          "scattergeo": [
           {
            "marker": {
             "colorbar": {
              "outlinewidth": 0,
              "ticks": ""
             }
            },
            "type": "scattergeo"
           }
          ],
          "scattergl": [
           {
            "marker": {
             "colorbar": {
              "outlinewidth": 0,
              "ticks": ""
             }
            },
            "type": "scattergl"
           }
          ],
          "scattermapbox": [
           {
            "marker": {
             "colorbar": {
              "outlinewidth": 0,
              "ticks": ""
             }
            },
            "type": "scattermapbox"
           }
          ],
          "scatterpolar": [
           {
            "marker": {
             "colorbar": {
              "outlinewidth": 0,
              "ticks": ""
             }
            },
            "type": "scatterpolar"
           }
          ],
          "scatterpolargl": [
           {
            "marker": {
             "colorbar": {
              "outlinewidth": 0,
              "ticks": ""
             }
            },
            "type": "scatterpolargl"
           }
          ],
          "scatterternary": [
           {
            "marker": {
             "colorbar": {
              "outlinewidth": 0,
              "ticks": ""
             }
            },
            "type": "scatterternary"
           }
          ],
          "surface": [
           {
            "colorbar": {
             "outlinewidth": 0,
             "ticks": ""
            },
            "colorscale": [
             [
              0,
              "#0d0887"
             ],
             [
              0.1111111111111111,
              "#46039f"
             ],
             [
              0.2222222222222222,
              "#7201a8"
             ],
             [
              0.3333333333333333,
              "#9c179e"
             ],
             [
              0.4444444444444444,
              "#bd3786"
             ],
             [
              0.5555555555555556,
              "#d8576b"
             ],
             [
              0.6666666666666666,
              "#ed7953"
             ],
             [
              0.7777777777777778,
              "#fb9f3a"
             ],
             [
              0.8888888888888888,
              "#fdca26"
             ],
             [
              1,
              "#f0f921"
             ]
            ],
            "type": "surface"
           }
          ],
          "table": [
           {
            "cells": {
             "fill": {
              "color": "#EBF0F8"
             },
             "line": {
              "color": "white"
             }
            },
            "header": {
             "fill": {
              "color": "#C8D4E3"
             },
             "line": {
              "color": "white"
             }
            },
            "type": "table"
           }
          ]
         },
         "layout": {
          "annotationdefaults": {
           "arrowcolor": "#2a3f5f",
           "arrowhead": 0,
           "arrowwidth": 1
          },
          "autotypenumbers": "strict",
          "coloraxis": {
           "colorbar": {
            "outlinewidth": 0,
            "ticks": ""
           }
          },
          "colorscale": {
           "diverging": [
            [
             0,
             "#8e0152"
            ],
            [
             0.1,
             "#c51b7d"
            ],
            [
             0.2,
             "#de77ae"
            ],
            [
             0.3,
             "#f1b6da"
            ],
            [
             0.4,
             "#fde0ef"
            ],
            [
             0.5,
             "#f7f7f7"
            ],
            [
             0.6,
             "#e6f5d0"
            ],
            [
             0.7,
             "#b8e186"
            ],
            [
             0.8,
             "#7fbc41"
            ],
            [
             0.9,
             "#4d9221"
            ],
            [
             1,
             "#276419"
            ]
           ],
           "sequential": [
            [
             0,
             "#0d0887"
            ],
            [
             0.1111111111111111,
             "#46039f"
            ],
            [
             0.2222222222222222,
             "#7201a8"
            ],
            [
             0.3333333333333333,
             "#9c179e"
            ],
            [
             0.4444444444444444,
             "#bd3786"
            ],
            [
             0.5555555555555556,
             "#d8576b"
            ],
            [
             0.6666666666666666,
             "#ed7953"
            ],
            [
             0.7777777777777778,
             "#fb9f3a"
            ],
            [
             0.8888888888888888,
             "#fdca26"
            ],
            [
             1,
             "#f0f921"
            ]
           ],
           "sequentialminus": [
            [
             0,
             "#0d0887"
            ],
            [
             0.1111111111111111,
             "#46039f"
            ],
            [
             0.2222222222222222,
             "#7201a8"
            ],
            [
             0.3333333333333333,
             "#9c179e"
            ],
            [
             0.4444444444444444,
             "#bd3786"
            ],
            [
             0.5555555555555556,
             "#d8576b"
            ],
            [
             0.6666666666666666,
             "#ed7953"
            ],
            [
             0.7777777777777778,
             "#fb9f3a"
            ],
            [
             0.8888888888888888,
             "#fdca26"
            ],
            [
             1,
             "#f0f921"
            ]
           ]
          },
          "colorway": [
           "#636efa",
           "#EF553B",
           "#00cc96",
           "#ab63fa",
           "#FFA15A",
           "#19d3f3",
           "#FF6692",
           "#B6E880",
           "#FF97FF",
           "#FECB52"
          ],
          "font": {
           "color": "#2a3f5f"
          },
          "geo": {
           "bgcolor": "white",
           "lakecolor": "white",
           "landcolor": "#E5ECF6",
           "showlakes": true,
           "showland": true,
           "subunitcolor": "white"
          },
          "hoverlabel": {
           "align": "left"
          },
          "hovermode": "closest",
          "mapbox": {
           "style": "light"
          },
          "paper_bgcolor": "white",
          "plot_bgcolor": "#E5ECF6",
          "polar": {
           "angularaxis": {
            "gridcolor": "white",
            "linecolor": "white",
            "ticks": ""
           },
           "bgcolor": "#E5ECF6",
           "radialaxis": {
            "gridcolor": "white",
            "linecolor": "white",
            "ticks": ""
           }
          },
          "scene": {
           "xaxis": {
            "backgroundcolor": "#E5ECF6",
            "gridcolor": "white",
            "gridwidth": 2,
            "linecolor": "white",
            "showbackground": true,
            "ticks": "",
            "zerolinecolor": "white"
           },
           "yaxis": {
            "backgroundcolor": "#E5ECF6",
            "gridcolor": "white",
            "gridwidth": 2,
            "linecolor": "white",
            "showbackground": true,
            "ticks": "",
            "zerolinecolor": "white"
           },
           "zaxis": {
            "backgroundcolor": "#E5ECF6",
            "gridcolor": "white",
            "gridwidth": 2,
            "linecolor": "white",
            "showbackground": true,
            "ticks": "",
            "zerolinecolor": "white"
           }
          },
          "shapedefaults": {
           "line": {
            "color": "#2a3f5f"
           }
          },
          "ternary": {
           "aaxis": {
            "gridcolor": "white",
            "linecolor": "white",
            "ticks": ""
           },
           "baxis": {
            "gridcolor": "white",
            "linecolor": "white",
            "ticks": ""
           },
           "bgcolor": "#E5ECF6",
           "caxis": {
            "gridcolor": "white",
            "linecolor": "white",
            "ticks": ""
           }
          },
          "title": {
           "x": 0.05
          },
          "xaxis": {
           "automargin": true,
           "gridcolor": "white",
           "linecolor": "white",
           "ticks": "",
           "title": {
            "standoff": 15
           },
           "zerolinecolor": "white",
           "zerolinewidth": 2
          },
          "yaxis": {
           "automargin": true,
           "gridcolor": "white",
           "linecolor": "white",
           "ticks": "",
           "title": {
            "standoff": 15
           },
           "zerolinecolor": "white",
           "zerolinewidth": 2
          }
         }
        }
       }
      }
     },
     "metadata": {},
     "output_type": "display_data"
    }
   ],
   "source": [
    "fig = go.Figure()\n",
    "\n",
    "fig.add_trace(go.Box(y=down['High']-down['Close'], name='High - Close'))\n",
    "fig.add_trace(go.Box(y=down['High']-down['Open'], name='High - Open'))\n",
    "\n",
    "fig.show()"
   ]
  },
  {
   "cell_type": "code",
   "execution_count": 63,
   "metadata": {},
   "outputs": [
    {
     "data": {
      "application/vnd.plotly.v1+json": {
       "config": {
        "plotlyServerURL": "https://plot.ly"
       },
       "data": [
        {
         "name": "Low - Close",
         "type": "box",
         "y": [
          -0.031664000000000025,
          -0.05002899999999999,
          -0.02575700000000003,
          -0.01217299999999999,
          -0.015384999999999982,
          -0.012507000000000046,
          -0.024984999999999924,
          -0.004353999999999969,
          -0.02266299999999999,
          -0.002963000000000049,
          -0.005213000000000023,
          -0.03235699999999997,
          -0.009939999999999949,
          -0.019195000000000073,
          -0.014383999999999952,
          -0.022036999999999973,
          -0.005808000000000035,
          -0.0005580000000000584,
          -0.010075000000000056,
          -0.010761999999999938,
          -0.011727000000000043,
          -0.008817999999999993,
          -0.007869000000000015,
          -0.0019529999999999825,
          -0.009188999999999892,
          -0.0023780000000001023,
          -0.011426000000000047,
          -0.014981000000000022,
          -0.010016999999999943,
          -0.01863300000000001,
          -0.010850999999999944,
          -0.00549299999999997,
          -0.03979999999999995,
          -0.03996099999999991,
          -0.00992599999999988,
          -0.010067999999999966,
          -0.009193999999999924,
          -0.005360999999999949,
          -0.00880700000000001,
          -0.024170000000000025,
          -0.0027239999999999487,
          -0.01482199999999989,
          -0.1496440000000001,
          -0.08054499999999987,
          -0.2511460000000001,
          -0.022950000000000026,
          -0.035031000000000034,
          -0.023400000000000087,
          -0.012426999999999966,
          -0.006620999999999988,
          -0.02930199999999994,
          -0.015595000000000026,
          -0.03156100000000006,
          -0.053530999999999995,
          -0.021716999999999986,
          -0.002601999999999993,
          -0.0011899999999999133,
          -0.02913699999999997,
          -0.03229900000000008,
          -0.05605799999999994,
          -0.021805999999999992,
          -0.00596400000000008,
          -0.007145999999999875,
          -0.034247999999999834,
          -0.0029770000000000074,
          -0.06610300000000002,
          -0.01673900000000006,
          -0.0012300000000000644,
          -0.009258999999999906,
          -0.026239000000000123,
          -0.02524700000000002,
          -0.02021000000000006,
          -0.035069999999999935,
          -0.020157999999999898,
          -0.04368000000000016,
          -0.02687000000000017,
          -0.06754499999999997,
          -0.032305999999999946,
          -0.01918199999999981,
          -0.0010509999999999131,
          -0.03721600000000014,
          -0.019033999999999995,
          -0.0010190000000001032,
          -0.00869399999999998,
          -0.030394000000000032,
          -0.007730999999999932,
          -0.010904000000000025,
          -0.008906999999999998,
          -0.012434999999999974,
          -0.016275999999999957,
          -0.23252400000000006,
          -0.025194999999999967,
          -0.011414999999999953,
          -0.026143000000000027,
          -0.004768999999999912,
          -0.018402999999999947,
          -0.0015979999999999883,
          -0.018869000000000025,
          -0.012996000000000008,
          -0.013898999999999995,
          -0.0042960000000000775,
          -0.0030040000000000067,
          -0.02539800000000003,
          -0.00883299999999998,
          -0.005058000000000007,
          -0.04165399999999997,
          -0.028457000000000066,
          -0.01988500000000004,
          -0.033856,
          -0.005245999999999973,
          -0.008001000000000036,
          -0.01039000000000001,
          -0.01316700000000004,
          -0.013263999999999943,
          -0.000018999999999991246,
          -0.012542000000000053,
          -0.036621000000000015,
          -0.053470999999999935,
          -0.017305000000000015,
          -0.003409999999999913,
          -0.0023450000000000415,
          -0.02322600000000008,
          -0.00010300000000007525,
          -0.005894999999999984,
          -0.013996000000000008,
          -0.01966699999999999,
          -0.02589700000000006,
          -0.008950000000000014,
          -0.008310999999999957,
          -0.0014770000000000616,
          -0.0024659999999999682,
          -0.06917799999999996,
          -0.007326999999999972,
          -0.01111899999999999,
          -0.008897999999999961,
          -0.013264999999999971,
          -0.007060999999999984,
          -0.0002300000000000635,
          -0.013329000000000035,
          -0.005037999999999987,
          -0.010897000000000046,
          -0.0045280000000000875,
          -0.002943000000000029,
          -0.021147999999999945,
          -0.00787199999999999,
          -0.007109000000000032,
          -0.0022530000000000605,
          -0.009139000000000008,
          -0.010682999999999998,
          -0.00009099999999995223,
          -0.01636099999999996,
          -0.0005319999999999769,
          -0.000029000000000056758,
          -0.003162999999999916,
          -0.0014330000000000176,
          -0.009284999999999988,
          -0.012622000000000022,
          -0.0026009999999999645,
          -0.007801999999999976,
          -0.008152000000000048,
          -0.0027329999999999854,
          -0.0003450000000000397,
          -0.0007139999999999924,
          -0.046184,
          -0.007282000000000011,
          -0.008095000000000074,
          -0.007503000000000037,
          -0.005515000000000048,
          -0.0066629999999999745,
          -0.014074000000000031,
          -0.008418999999999954,
          -0.003770000000000051,
          -0.012218000000000007,
          -0.030950000000000033,
          -0.04025200000000001,
          -0.010413000000000006,
          0,
          -0.007958999999999994,
          -0.0003130000000000077,
          -0.009025000000000005,
          -0.012447000000000041,
          -0.0036209999999999853,
          -0.005067999999999961
         ]
        },
        {
         "name": "Low - Open",
         "type": "box",
         "y": [
          -0.06276500000000007,
          -0.12493900000000013,
          -0.07245000000000001,
          -0.09773599999999993,
          -0.067527,
          -0.033304,
          -0.04018100000000002,
          -0.0393,
          -0.06733899999999993,
          -0.039595999999999965,
          -0.16962,
          -0.094522,
          -0.06952800000000003,
          -0.023734000000000033,
          -0.05798899999999996,
          -0.025163999999999964,
          -0.04716100000000001,
          -0.014239000000000002,
          -0.03970800000000008,
          -0.022519999999999984,
          -0.01789099999999999,
          -0.018740999999999897,
          -0.03093299999999999,
          -0.008727999999999958,
          -0.01625499999999991,
          -0.03204700000000005,
          -0.03971199999999997,
          -0.01781900000000003,
          -0.01439299999999999,
          -0.03865200000000002,
          -0.036587999999999954,
          -0.04348799999999997,
          -0.08781400000000006,
          -0.13389699999999993,
          -0.0980049999999999,
          -0.05751300000000015,
          -0.11999000000000004,
          -0.10468299999999986,
          -0.05565299999999995,
          -0.0292619999999999,
          -0.043625000000000025,
          -0.04974400000000001,
          -0.413983,
          -0.10650999999999988,
          -0.252027,
          -0.05325700000000011,
          -0.08977600000000008,
          -0.053145999999999916,
          -0.037706999999999935,
          -0.033360999999999974,
          -0.1611339999999999,
          -0.061610000000000054,
          -0.03404599999999991,
          -0.1100620000000001,
          -0.025831999999999966,
          -0.02487499999999998,
          -0.03055999999999992,
          -0.03252199999999994,
          -0.04506600000000005,
          -0.06333499999999992,
          -0.03096600000000005,
          -0.010836999999999986,
          -0.028969000000000023,
          -0.07072899999999982,
          -0.009353999999999862,
          -0.10732699999999995,
          -0.027731000000000172,
          -0.057320999999999955,
          -0.010785999999999962,
          -0.036831999999999976,
          -0.13773600000000008,
          -0.04049600000000009,
          -0.0435859999999999,
          -0.060541999999999874,
          -0.05186000000000002,
          -0.05047200000000007,
          -0.13135699999999995,
          -0.059199,
          -0.02177999999999991,
          -0.018504000000000076,
          -0.12093600000000015,
          -0.07336100000000001,
          -0.03759400000000013,
          -0.03219799999999995,
          -0.055471999999999966,
          -0.009950000000000125,
          -0.11946999999999997,
          -0.016167000000000042,
          -0.03103800000000001,
          -0.06748500000000002,
          -0.30958700000000006,
          -0.06630900000000006,
          -0.021919000000000022,
          -0.027013999999999982,
          -0.064697,
          -0.07686199999999999,
          -0.023104000000000013,
          -0.025568000000000035,
          -0.09573899999999991,
          -0.018405000000000005,
          -0.07809200000000005,
          -0.03936699999999993,
          -0.03391600000000006,
          -0.03505499999999995,
          -0.013236000000000026,
          -0.09200999999999993,
          -0.046653000000000056,
          -0.03530299999999997,
          -0.04894900000000002,
          -0.03637299999999999,
          -0.010355000000000003,
          -0.026646999999999976,
          -0.02330500000000002,
          -0.026128999999999958,
          -0.02032400000000001,
          -0.09641300000000008,
          -0.07658500000000001,
          -0.070102,
          -0.03047999999999995,
          -0.017235,
          -0.030102000000000073,
          -0.030114000000000085,
          -0.04096900000000003,
          -0.07561000000000007,
          -0.02595599999999998,
          -0.027321999999999957,
          -0.039238000000000106,
          -0.08049099999999998,
          -0.05255299999999996,
          -0.07617099999999999,
          -0.02657200000000004,
          -0.07148599999999994,
          -0.024998999999999993,
          -0.040093000000000045,
          -0.025278000000000023,
          -0.02961199999999997,
          -0.046684999999999977,
          -0.029159000000000046,
          -0.016052999999999984,
          -0.007291999999999965,
          -0.04045900000000002,
          -0.02017000000000002,
          -0.02812999999999999,
          -0.029001999999999972,
          -0.021129999999999982,
          -0.008047000000000026,
          -0.020094000000000056,
          -0.014228000000000018,
          -0.05699900000000002,
          -0.002906999999999993,
          -0.03203299999999998,
          -0.010117000000000043,
          -0.056342,
          -0.037103999999999915,
          -0.008422999999999958,
          -0.07068400000000008,
          -0.01643400000000006,
          -0.031239000000000017,
          -0.030679000000000012,
          -0.027151000000000036,
          -0.01669900000000002,
          -0.011784000000000017,
          -0.00946199999999997,
          -0.05051499999999998,
          -0.059917,
          -0.016045000000000087,
          -0.04037999999999997,
          -0.029828999999999994,
          -0.016032000000000046,
          -0.06165100000000001,
          -0.02863300000000002,
          -0.01964200000000005,
          -0.08579700000000001,
          -0.13111699999999998,
          -0.06844500000000003,
          -0.03532099999999999,
          -0.03147,
          -0.016749000000000014,
          -0.01790200000000003,
          -0.011940000000000006,
          -0.025076000000000043,
          -0.014909999999999979,
          -0.005406999999999995
         ]
        }
       ],
       "layout": {
        "template": {
         "data": {
          "bar": [
           {
            "error_x": {
             "color": "#2a3f5f"
            },
            "error_y": {
             "color": "#2a3f5f"
            },
            "marker": {
             "line": {
              "color": "#E5ECF6",
              "width": 0.5
             },
             "pattern": {
              "fillmode": "overlay",
              "size": 10,
              "solidity": 0.2
             }
            },
            "type": "bar"
           }
          ],
          "barpolar": [
           {
            "marker": {
             "line": {
              "color": "#E5ECF6",
              "width": 0.5
             },
             "pattern": {
              "fillmode": "overlay",
              "size": 10,
              "solidity": 0.2
             }
            },
            "type": "barpolar"
           }
          ],
          "carpet": [
           {
            "aaxis": {
             "endlinecolor": "#2a3f5f",
             "gridcolor": "white",
             "linecolor": "white",
             "minorgridcolor": "white",
             "startlinecolor": "#2a3f5f"
            },
            "baxis": {
             "endlinecolor": "#2a3f5f",
             "gridcolor": "white",
             "linecolor": "white",
             "minorgridcolor": "white",
             "startlinecolor": "#2a3f5f"
            },
            "type": "carpet"
           }
          ],
          "choropleth": [
           {
            "colorbar": {
             "outlinewidth": 0,
             "ticks": ""
            },
            "type": "choropleth"
           }
          ],
          "contour": [
           {
            "colorbar": {
             "outlinewidth": 0,
             "ticks": ""
            },
            "colorscale": [
             [
              0,
              "#0d0887"
             ],
             [
              0.1111111111111111,
              "#46039f"
             ],
             [
              0.2222222222222222,
              "#7201a8"
             ],
             [
              0.3333333333333333,
              "#9c179e"
             ],
             [
              0.4444444444444444,
              "#bd3786"
             ],
             [
              0.5555555555555556,
              "#d8576b"
             ],
             [
              0.6666666666666666,
              "#ed7953"
             ],
             [
              0.7777777777777778,
              "#fb9f3a"
             ],
             [
              0.8888888888888888,
              "#fdca26"
             ],
             [
              1,
              "#f0f921"
             ]
            ],
            "type": "contour"
           }
          ],
          "contourcarpet": [
           {
            "colorbar": {
             "outlinewidth": 0,
             "ticks": ""
            },
            "type": "contourcarpet"
           }
          ],
          "heatmap": [
           {
            "colorbar": {
             "outlinewidth": 0,
             "ticks": ""
            },
            "colorscale": [
             [
              0,
              "#0d0887"
             ],
             [
              0.1111111111111111,
              "#46039f"
             ],
             [
              0.2222222222222222,
              "#7201a8"
             ],
             [
              0.3333333333333333,
              "#9c179e"
             ],
             [
              0.4444444444444444,
              "#bd3786"
             ],
             [
              0.5555555555555556,
              "#d8576b"
             ],
             [
              0.6666666666666666,
              "#ed7953"
             ],
             [
              0.7777777777777778,
              "#fb9f3a"
             ],
             [
              0.8888888888888888,
              "#fdca26"
             ],
             [
              1,
              "#f0f921"
             ]
            ],
            "type": "heatmap"
           }
          ],
          "heatmapgl": [
           {
            "colorbar": {
             "outlinewidth": 0,
             "ticks": ""
            },
            "colorscale": [
             [
              0,
              "#0d0887"
             ],
             [
              0.1111111111111111,
              "#46039f"
             ],
             [
              0.2222222222222222,
              "#7201a8"
             ],
             [
              0.3333333333333333,
              "#9c179e"
             ],
             [
              0.4444444444444444,
              "#bd3786"
             ],
             [
              0.5555555555555556,
              "#d8576b"
             ],
             [
              0.6666666666666666,
              "#ed7953"
             ],
             [
              0.7777777777777778,
              "#fb9f3a"
             ],
             [
              0.8888888888888888,
              "#fdca26"
             ],
             [
              1,
              "#f0f921"
             ]
            ],
            "type": "heatmapgl"
           }
          ],
          "histogram": [
           {
            "marker": {
             "pattern": {
              "fillmode": "overlay",
              "size": 10,
              "solidity": 0.2
             }
            },
            "type": "histogram"
           }
          ],
          "histogram2d": [
           {
            "colorbar": {
             "outlinewidth": 0,
             "ticks": ""
            },
            "colorscale": [
             [
              0,
              "#0d0887"
             ],
             [
              0.1111111111111111,
              "#46039f"
             ],
             [
              0.2222222222222222,
              "#7201a8"
             ],
             [
              0.3333333333333333,
              "#9c179e"
             ],
             [
              0.4444444444444444,
              "#bd3786"
             ],
             [
              0.5555555555555556,
              "#d8576b"
             ],
             [
              0.6666666666666666,
              "#ed7953"
             ],
             [
              0.7777777777777778,
              "#fb9f3a"
             ],
             [
              0.8888888888888888,
              "#fdca26"
             ],
             [
              1,
              "#f0f921"
             ]
            ],
            "type": "histogram2d"
           }
          ],
          "histogram2dcontour": [
           {
            "colorbar": {
             "outlinewidth": 0,
             "ticks": ""
            },
            "colorscale": [
             [
              0,
              "#0d0887"
             ],
             [
              0.1111111111111111,
              "#46039f"
             ],
             [
              0.2222222222222222,
              "#7201a8"
             ],
             [
              0.3333333333333333,
              "#9c179e"
             ],
             [
              0.4444444444444444,
              "#bd3786"
             ],
             [
              0.5555555555555556,
              "#d8576b"
             ],
             [
              0.6666666666666666,
              "#ed7953"
             ],
             [
              0.7777777777777778,
              "#fb9f3a"
             ],
             [
              0.8888888888888888,
              "#fdca26"
             ],
             [
              1,
              "#f0f921"
             ]
            ],
            "type": "histogram2dcontour"
           }
          ],
          "mesh3d": [
           {
            "colorbar": {
             "outlinewidth": 0,
             "ticks": ""
            },
            "type": "mesh3d"
           }
          ],
          "parcoords": [
           {
            "line": {
             "colorbar": {
              "outlinewidth": 0,
              "ticks": ""
             }
            },
            "type": "parcoords"
           }
          ],
          "pie": [
           {
            "automargin": true,
            "type": "pie"
           }
          ],
          "scatter": [
           {
            "marker": {
             "colorbar": {
              "outlinewidth": 0,
              "ticks": ""
             }
            },
            "type": "scatter"
           }
          ],
          "scatter3d": [
           {
            "line": {
             "colorbar": {
              "outlinewidth": 0,
              "ticks": ""
             }
            },
            "marker": {
             "colorbar": {
              "outlinewidth": 0,
              "ticks": ""
             }
            },
            "type": "scatter3d"
           }
          ],
          "scattercarpet": [
           {
            "marker": {
             "colorbar": {
              "outlinewidth": 0,
              "ticks": ""
             }
            },
            "type": "scattercarpet"
           }
          ],
          "scattergeo": [
           {
            "marker": {
             "colorbar": {
              "outlinewidth": 0,
              "ticks": ""
             }
            },
            "type": "scattergeo"
           }
          ],
          "scattergl": [
           {
            "marker": {
             "colorbar": {
              "outlinewidth": 0,
              "ticks": ""
             }
            },
            "type": "scattergl"
           }
          ],
          "scattermapbox": [
           {
            "marker": {
             "colorbar": {
              "outlinewidth": 0,
              "ticks": ""
             }
            },
            "type": "scattermapbox"
           }
          ],
          "scatterpolar": [
           {
            "marker": {
             "colorbar": {
              "outlinewidth": 0,
              "ticks": ""
             }
            },
            "type": "scatterpolar"
           }
          ],
          "scatterpolargl": [
           {
            "marker": {
             "colorbar": {
              "outlinewidth": 0,
              "ticks": ""
             }
            },
            "type": "scatterpolargl"
           }
          ],
          "scatterternary": [
           {
            "marker": {
             "colorbar": {
              "outlinewidth": 0,
              "ticks": ""
             }
            },
            "type": "scatterternary"
           }
          ],
          "surface": [
           {
            "colorbar": {
             "outlinewidth": 0,
             "ticks": ""
            },
            "colorscale": [
             [
              0,
              "#0d0887"
             ],
             [
              0.1111111111111111,
              "#46039f"
             ],
             [
              0.2222222222222222,
              "#7201a8"
             ],
             [
              0.3333333333333333,
              "#9c179e"
             ],
             [
              0.4444444444444444,
              "#bd3786"
             ],
             [
              0.5555555555555556,
              "#d8576b"
             ],
             [
              0.6666666666666666,
              "#ed7953"
             ],
             [
              0.7777777777777778,
              "#fb9f3a"
             ],
             [
              0.8888888888888888,
              "#fdca26"
             ],
             [
              1,
              "#f0f921"
             ]
            ],
            "type": "surface"
           }
          ],
          "table": [
           {
            "cells": {
             "fill": {
              "color": "#EBF0F8"
             },
             "line": {
              "color": "white"
             }
            },
            "header": {
             "fill": {
              "color": "#C8D4E3"
             },
             "line": {
              "color": "white"
             }
            },
            "type": "table"
           }
          ]
         },
         "layout": {
          "annotationdefaults": {
           "arrowcolor": "#2a3f5f",
           "arrowhead": 0,
           "arrowwidth": 1
          },
          "autotypenumbers": "strict",
          "coloraxis": {
           "colorbar": {
            "outlinewidth": 0,
            "ticks": ""
           }
          },
          "colorscale": {
           "diverging": [
            [
             0,
             "#8e0152"
            ],
            [
             0.1,
             "#c51b7d"
            ],
            [
             0.2,
             "#de77ae"
            ],
            [
             0.3,
             "#f1b6da"
            ],
            [
             0.4,
             "#fde0ef"
            ],
            [
             0.5,
             "#f7f7f7"
            ],
            [
             0.6,
             "#e6f5d0"
            ],
            [
             0.7,
             "#b8e186"
            ],
            [
             0.8,
             "#7fbc41"
            ],
            [
             0.9,
             "#4d9221"
            ],
            [
             1,
             "#276419"
            ]
           ],
           "sequential": [
            [
             0,
             "#0d0887"
            ],
            [
             0.1111111111111111,
             "#46039f"
            ],
            [
             0.2222222222222222,
             "#7201a8"
            ],
            [
             0.3333333333333333,
             "#9c179e"
            ],
            [
             0.4444444444444444,
             "#bd3786"
            ],
            [
             0.5555555555555556,
             "#d8576b"
            ],
            [
             0.6666666666666666,
             "#ed7953"
            ],
            [
             0.7777777777777778,
             "#fb9f3a"
            ],
            [
             0.8888888888888888,
             "#fdca26"
            ],
            [
             1,
             "#f0f921"
            ]
           ],
           "sequentialminus": [
            [
             0,
             "#0d0887"
            ],
            [
             0.1111111111111111,
             "#46039f"
            ],
            [
             0.2222222222222222,
             "#7201a8"
            ],
            [
             0.3333333333333333,
             "#9c179e"
            ],
            [
             0.4444444444444444,
             "#bd3786"
            ],
            [
             0.5555555555555556,
             "#d8576b"
            ],
            [
             0.6666666666666666,
             "#ed7953"
            ],
            [
             0.7777777777777778,
             "#fb9f3a"
            ],
            [
             0.8888888888888888,
             "#fdca26"
            ],
            [
             1,
             "#f0f921"
            ]
           ]
          },
          "colorway": [
           "#636efa",
           "#EF553B",
           "#00cc96",
           "#ab63fa",
           "#FFA15A",
           "#19d3f3",
           "#FF6692",
           "#B6E880",
           "#FF97FF",
           "#FECB52"
          ],
          "font": {
           "color": "#2a3f5f"
          },
          "geo": {
           "bgcolor": "white",
           "lakecolor": "white",
           "landcolor": "#E5ECF6",
           "showlakes": true,
           "showland": true,
           "subunitcolor": "white"
          },
          "hoverlabel": {
           "align": "left"
          },
          "hovermode": "closest",
          "mapbox": {
           "style": "light"
          },
          "paper_bgcolor": "white",
          "plot_bgcolor": "#E5ECF6",
          "polar": {
           "angularaxis": {
            "gridcolor": "white",
            "linecolor": "white",
            "ticks": ""
           },
           "bgcolor": "#E5ECF6",
           "radialaxis": {
            "gridcolor": "white",
            "linecolor": "white",
            "ticks": ""
           }
          },
          "scene": {
           "xaxis": {
            "backgroundcolor": "#E5ECF6",
            "gridcolor": "white",
            "gridwidth": 2,
            "linecolor": "white",
            "showbackground": true,
            "ticks": "",
            "zerolinecolor": "white"
           },
           "yaxis": {
            "backgroundcolor": "#E5ECF6",
            "gridcolor": "white",
            "gridwidth": 2,
            "linecolor": "white",
            "showbackground": true,
            "ticks": "",
            "zerolinecolor": "white"
           },
           "zaxis": {
            "backgroundcolor": "#E5ECF6",
            "gridcolor": "white",
            "gridwidth": 2,
            "linecolor": "white",
            "showbackground": true,
            "ticks": "",
            "zerolinecolor": "white"
           }
          },
          "shapedefaults": {
           "line": {
            "color": "#2a3f5f"
           }
          },
          "ternary": {
           "aaxis": {
            "gridcolor": "white",
            "linecolor": "white",
            "ticks": ""
           },
           "baxis": {
            "gridcolor": "white",
            "linecolor": "white",
            "ticks": ""
           },
           "bgcolor": "#E5ECF6",
           "caxis": {
            "gridcolor": "white",
            "linecolor": "white",
            "ticks": ""
           }
          },
          "title": {
           "x": 0.05
          },
          "xaxis": {
           "automargin": true,
           "gridcolor": "white",
           "linecolor": "white",
           "ticks": "",
           "title": {
            "standoff": 15
           },
           "zerolinecolor": "white",
           "zerolinewidth": 2
          },
          "yaxis": {
           "automargin": true,
           "gridcolor": "white",
           "linecolor": "white",
           "ticks": "",
           "title": {
            "standoff": 15
           },
           "zerolinecolor": "white",
           "zerolinewidth": 2
          }
         }
        }
       }
      }
     },
     "metadata": {},
     "output_type": "display_data"
    }
   ],
   "source": [
    "fig = go.Figure()\n",
    "\n",
    "fig.add_trace(go.Box(y=down['Low']-down['Close'], name='Low - Close'))\n",
    "fig.add_trace(go.Box(y=down['Low']-down['Open'], name='Low - Open'))\n",
    "\n",
    "fig.show()"
   ]
  },
  {
   "cell_type": "markdown",
   "metadata": {},
   "source": [
    "It appears that"
   ]
  },
  {
   "cell_type": "code",
   "execution_count": 64,
   "metadata": {},
   "outputs": [
    {
     "data": {
      "text/plain": [
       "array([[<AxesSubplot:title={'center':'Volume'}>]], dtype=object)"
      ]
     },
     "execution_count": 64,
     "metadata": {},
     "output_type": "execute_result"
    },
    {
     "data": {
      "image/png": "[encoded data removed]",
      "text/plain": [
       "<Figure size 432x288 with 1 Axes>"
      ]
     },
     "metadata": {
      "needs_background": "light"
     },
     "output_type": "display_data"
    }
   ],
   "source": [
    "xrp[['Volume']].hist()"
   ]
  },
  {
   "cell_type": "code",
   "execution_count": 65,
   "metadata": {},
   "outputs": [
    {
     "data": {
      "text/plain": [
       "<AxesSubplot:>"
      ]
     },
     "execution_count": 65,
     "metadata": {},
     "output_type": "execute_result"
    },
    {
     "data": {
      "image/png": "[encoded data removed]",
      "text/plain": [
       "<Figure size 432x288 with 1 Axes>"
      ]
     },
     "metadata": {
      "needs_background": "light"
     },
     "output_type": "display_data"
    }
   ],
   "source": [
    "xrp[['Volume']].plot()"
   ]
  },
  {
   "cell_type": "code",
   "execution_count": 73,
   "metadata": {},
   "outputs": [
    {
     "data": {
      "text/plain": [
       "2      1.0\n",
       "3      1.0\n",
       "4     -1.0\n",
       "5      1.0\n",
       "6      1.0\n",
       "      ... \n",
       "361    1.0\n",
       "362   -1.0\n",
       "363   -1.0\n",
       "364   -1.0\n",
       "365    1.0\n",
       "Name: Direction, Length: 364, dtype: float64"
      ]
     },
     "execution_count": 73,
     "metadata": {},
     "output_type": "execute_result"
    }
   ],
   "source": [
    "A = xrp['Direction']\n",
    "B = A.shift(1).dropna()\n",
    "A = A.iloc[1:]"
   ]
  },
  {
   "cell_type": "code",
   "execution_count": 74,
   "metadata": {},
   "outputs": [
    {
     "name": "stdout",
     "output_type": "stream",
     "text": [
      "0.4478021978021978\n"
     ]
    }
   ],
   "source": [
    "score = 0\n",
    "for i in range(364):\n",
    "    if A.iloc[i] == B.iloc[i]:\n",
    "        score += 1\n",
    "\n",
    "print(score/364)"
   ]
  }
 ],
 "metadata": {
  "interpreter": {
   "hash": "aee8b7b246df8f9039afb4144a1f6fd8d2ca17a180786b69acc140d282b71a49"
  },
  "kernelspec": {
   "display_name": "Python 3.9.7 64-bit",
   "language": "python",
   "name": "python3"
  },
  "language_info": {
   "codemirror_mode": {
    "name": "ipython",
    "version": 3
   },
   "file_extension": ".py",
   "mimetype": "text/x-python",
   "name": "python",
   "nbconvert_exporter": "python",
   "pygments_lexer": "ipython3",
   "version": "3.9.7"
  },
  "orig_nbformat": 4
 },
 "nbformat": 4,
 "nbformat_minor": 2
}
