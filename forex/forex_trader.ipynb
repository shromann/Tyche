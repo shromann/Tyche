{
 "cells": [
  {
   "cell_type": "code",
   "execution_count": 9,
   "metadata": {},
   "outputs": [],
   "source": [
    "import requests\n",
    "import numpy as np\n",
    "from math import log, exp\n",
    "from scipy.optimize import linear_sum_assignment\n",
    "import time"
   ]
  },
  {
   "cell_type": "code",
   "execution_count": 10,
   "metadata": {},
   "outputs": [],
   "source": [
    "url = \"https://api.twelvedata.com/price\"\n",
    "\n",
    "personal = \"ef3e1be5126a41c0a9d98b02f4a7ce38\"\n",
    "uni = \"b86172a213a240fca42701a5e89e0dbe\"\n",
    "\n",
    "def get_price(curr1, curr2, key):\n",
    "    if curr1 == curr2:\n",
    "        return 1\n",
    "    else:\n",
    "        try:\n",
    "            resp = requests.request(\"GET\", url=f\"{url}?symbol={curr1}/{curr2}&apikey={key}\").json()['price']\n",
    "            return float(resp)\n",
    "        except:\n",
    "            resp = requests.request(\"GET\", url=f\"{url}?symbol={curr2}/{curr1}&apikey={key}\").json()['price']\n",
    "            return 1/float(resp)"
   ]
  },
  {
   "cell_type": "code",
   "execution_count": 11,
   "metadata": {},
   "outputs": [],
   "source": [
    "class trader:\n",
    "    def __init__(self, name, curr, home_curr, start_amount):\n",
    "        self.name = name\n",
    "        self.last_roi = 0\n",
    "        self.curr = np.array(curr)\n",
    "        self.volume = self.make_volume(home_curr, start_amount)\n",
    "        self.fees = 0\n",
    "\n",
    "    def make_volume(self, home_curr, start_amount):\n",
    "        volume = dict()\n",
    "        for c in self.curr:\n",
    "            volume[c] = 0\n",
    "        volume[home_curr] = start_amount\n",
    "        return volume\n",
    "    \n",
    "    def get_M(self):\n",
    "\n",
    "        self.P = np.matrix([[0.0 for _ in self.curr]for _ in self.curr], dtype=float)\n",
    "        self.M = np.matrix([[0.0 for _ in self.curr]for _ in self.curr], dtype=float)\n",
    "        C = np.matrix([[False for _ in self.curr]for _ in self.curr], dtype=bool)\n",
    "\n",
    "        for r, curr1 in enumerate(self.curr):\n",
    "            for c, curr2 in enumerate(self.curr):\n",
    "                if C[r, c] == False:\n",
    "                    p = get_price(curr1, curr2, self.key)\n",
    "                    if p != 0:\n",
    "                        self.P[r, c] = float(p) \n",
    "                        self.P[c, r] = float(1/p)\n",
    "                        self.M[r, c] = log(float(p))\n",
    "                        self.M[c, r] = log(float(1/p))\n",
    "                    else:\n",
    "                        self.P[r, c] = 1\n",
    "                        self.P[c, r] = 1\n",
    "                        self.M[r, c] = 0.0\n",
    "                        self.M[c, r] = 0.0\n",
    "                    C[r, c] = C[c, r] = True  \n",
    "\n",
    "        return self.M\n",
    "\n",
    "    def set_key(self, key):\n",
    "        self.key = key\n",
    "\n",
    "    def trade(self):\n",
    "        self.get_M()\n",
    "        row_ind, col_ind = linear_sum_assignment(self.M, maximize=True)\n",
    "        \n",
    "        self.last_roi = exp(self.M[row_ind, col_ind].sum())\n",
    "        \n",
    "        if self.last_roi > 1 + self.fees:\n",
    "            child = {k:v for k,v in zip(row_ind, col_ind)}\n",
    "\n",
    "            visited = set()\n",
    "            self.orders(child, visited)\n",
    "\n",
    "    \n",
    "    def orders(self, child, visited, p = 0):\n",
    "        if p not in visited:\n",
    "            visited.add(p)\n",
    "\n",
    "            # print(f\"{self.curr[p]}: {self.volume[self.curr[p]]}\", end = \" -> \")\n",
    "\n",
    "            self.volume[self.curr[child[p]]] += self.volume[self.curr[p]] * self.P[p, child[p]]\n",
    "            self.volume[self.curr[p]] = 0\n",
    "\n",
    "            # print(f\"{self.curr[child[p]]}: {self.volume[self.curr[child[p]]]}\")\n",
    "\n",
    "            self.orders(child, visited, child[p])\n",
    "        return\n",
    "\n"
   ]
  },
  {
   "cell_type": "code",
   "execution_count": 12,
   "metadata": {},
   "outputs": [
    {
     "name": "stdout",
     "output_type": "stream",
     "text": [
      "14:16:18 > initial investment (AUD): 1000\n",
      "+3.378 > +8.434008632677774 total: 1008.4340086326778\n",
      "+66.98 > +10.711834150427194 total: 1019.145842783105\n",
      "+131.0 > +7.102344522424232 total: 1026.2481873055292\n",
      "+195.5 > +2.4033740889933597 total: 1028.6515613945226\n",
      "+258.8 > +2.2676252176563594 total: 1030.919186612179\n",
      "+322.2 > +2.3865287574128615 total: 1033.3057153695918\n",
      "+385.5 > +2.311906050297466 total: 1035.6176214198892\n",
      "+448.9 > +2.9985858922032094 total: 1038.6162073120925\n",
      "+512.6 > +9.277475241147386 total: 1047.8936825532398\n",
      "+575.9 > +8.589525453299984 total: 1056.4832080065398\n"
     ]
    }
   ],
   "source": [
    "\n",
    "AUD = [1000]\n",
    "hunter = trader(\"hunter\", [\"AUD\", \"BTC\", \"ETH\", \"USD\"], 'AUD', AUD[0])\n",
    "hunter.set_key(personal)\n",
    "\n",
    "start = time.time()\n",
    "print(time.strftime(\"%H:%M:%S\"), \"> initial investment (AUD):\", AUD[0])\n",
    "\n",
    "i = 0\n",
    "while i < 10:\n",
    "    hunter.trade()\n",
    "    print(f\"+{str(time.time() - start)[:5]} > +{hunter.volume['AUD'] - AUD[-1]}\", \"total:\", hunter.volume['AUD'])\n",
    "    AUD.append(hunter.volume['AUD'])\n",
    "    time.sleep(60)\n",
    "    i += 1"
   ]
  }
 ],
 "metadata": {
  "kernelspec": {
   "display_name": "Python 3.9.7 64-bit",
   "language": "python",
   "name": "python3"
  },
  "language_info": {
   "codemirror_mode": {
    "name": "ipython",
    "version": 3
   },
   "file_extension": ".py",
   "mimetype": "text/x-python",
   "name": "python",
   "nbconvert_exporter": "python",
   "pygments_lexer": "ipython3",
   "version": "3.9.7"
  },
  "orig_nbformat": 4,
  "vscode": {
   "interpreter": {
    "hash": "aee8b7b246df8f9039afb4144a1f6fd8d2ca17a180786b69acc140d282b71a49"
   }
  }
 },
 "nbformat": 4,
 "nbformat_minor": 2
}
