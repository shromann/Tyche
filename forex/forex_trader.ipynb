{
 "cells": [
  {
   "cell_type": "code",
   "execution_count": 201,
   "metadata": {},
   "outputs": [],
   "source": [
    "import requests\n",
    "import numpy as np\n",
    "from math import log, exp\n",
    "from scipy.optimize import linear_sum_assignment\n",
    "import time"
   ]
  },
  {
   "cell_type": "code",
   "execution_count": 202,
   "metadata": {},
   "outputs": [],
   "source": [
    "url = \"https://api.twelvedata.com/price\"\n",
    "\n",
    "personal = \"ef3e1be5126a41c0a9d98b02f4a7ce38\"\n",
    "uni = \"b86172a213a240fca42701a5e89e0dbe\"\n",
    "\n",
    "def get_price(curr1, curr2, key):\n",
    "    if curr1 == curr2:\n",
    "        return 1\n",
    "    else:\n",
    "        try:\n",
    "            resp = requests.request(\"GET\", url=f\"{url}?symbol={curr1}/{curr2}&apikey={key}\").json()['price']\n",
    "            return float(resp)\n",
    "        except:\n",
    "            resp = requests.request(\"GET\", url=f\"{url}?symbol={curr2}/{curr1}&apikey={key}\").json()['price']\n",
    "            return 1/float(resp)"
   ]
  },
  {
   "cell_type": "code",
   "execution_count": 203,
   "metadata": {},
   "outputs": [],
   "source": [
    "class trader:\n",
    "    def __init__(self, name, curr, home_curr, start_amount):\n",
    "        self.name = name\n",
    "        self.last_roi = 0\n",
    "        self.curr = np.array(curr)\n",
    "        self.volume = self.make_volume(home_curr, start_amount)\n",
    "        self.fees = 0\n",
    "\n",
    "    def make_volume(self, home_curr, start_amount):\n",
    "        volume = dict()\n",
    "        for c in self.curr:\n",
    "            volume[c] = 0\n",
    "        volume[home_curr] = start_amount\n",
    "        return volume\n",
    "    \n",
    "    def get_M(self):\n",
    "\n",
    "        self.P = np.matrix([[0.0 for _ in self.curr]for _ in self.curr], dtype=float)\n",
    "        self.M = np.matrix([[0.0 for _ in self.curr]for _ in self.curr], dtype=float)\n",
    "        C = np.matrix([[False for _ in self.curr]for _ in self.curr], dtype=bool)\n",
    "\n",
    "        for r, curr1 in enumerate(self.curr):\n",
    "            for c, curr2 in enumerate(self.curr):\n",
    "                if C[r, c] == False:\n",
    "                    p = get_price(curr1, curr2, self.key)\n",
    "                    if p != 0:\n",
    "                        self.P[r, c] = float(p) \n",
    "                        self.P[c, r] = float(1/p)\n",
    "                        self.M[r, c] = log(float(p))\n",
    "                        self.M[c, r] = log(float(1/p))\n",
    "                    else:\n",
    "                        self.P[r, c] = 1\n",
    "                        self.P[c, r] = 1\n",
    "                        self.M[r, c] = 0.0\n",
    "                        self.M[c, r] = 0.0\n",
    "                    C[r, c] = C[c, r] = True  \n",
    "\n",
    "        return self.M\n",
    "\n",
    "    def set_key(self, key):\n",
    "        self.key = key\n",
    "\n",
    "    def trade(self):\n",
    "        self.get_M()\n",
    "        row_ind, col_ind = linear_sum_assignment(self.M, maximize=True)\n",
    "        \n",
    "        self.last_roi = exp(self.M[row_ind, col_ind].sum())\n",
    "        \n",
    "        if self.last_roi > 1 + self.fees:\n",
    "            child = {k:v for k,v in zip(row_ind, col_ind)}\n",
    "\n",
    "            visited = set()\n",
    "            self.orders(child, visited)\n",
    "\n",
    "    \n",
    "    def orders(self, child, visited, p = 0):\n",
    "        if p not in visited:\n",
    "            visited.add(p)\n",
    "\n",
    "            # print(f\"{self.curr[p]}: {self.volume[self.curr[p]]}\", end = \" -> \")\n",
    "\n",
    "            self.volume[self.curr[child[p]]] += self.volume[self.curr[p]] * self.P[p, child[p]]\n",
    "            self.volume[self.curr[p]] = 0\n",
    "\n",
    "            # print(f\"{self.curr[child[p]]}: {self.volume[self.curr[child[p]]]}\")\n",
    "\n",
    "            self.orders(child, visited, child[p])\n",
    "        return\n",
    "\n"
   ]
  },
  {
   "cell_type": "code",
   "execution_count": 207,
   "metadata": {},
   "outputs": [
    {
     "name": "stdout",
     "output_type": "stream",
     "text": [
      "22:52:44 > initial investment (AUD): 1000\n",
      "+3.404 > +5.836420819666614 total: 1005.8364208196666\n",
      "+66.79 > +6.177814926417682 total: 1012.0142357460843\n",
      "+130.1 > +7.002987567524087 total: 1019.0172233136084\n",
      "+193.5 > +10.144851419756378 total: 1029.1620747333648\n",
      "+256.8 > +10.516164137615306 total: 1039.67823887098\n",
      "+320.4 > +4.114511692793258 total: 1043.7927505637733\n",
      "+383.8 > +5.475386790575158 total: 1049.2681373543485\n",
      "+447.1 > +7.554513911203458 total: 1056.822651265552\n",
      "+510.6 > +13.367235976509846 total: 1070.1898872420618\n",
      "+573.9 > +4.952394040093168 total: 1075.142281282155\n",
      "+637.2 > +5.213525149934412 total: 1080.3558064320894\n",
      "+700.6 > +-1080.3558064320894 total: 0\n"
     ]
    },
    {
     "ename": "KeyboardInterrupt",
     "evalue": "",
     "output_type": "error",
     "traceback": [
      "\u001b[0;31m---------------------------------------------------------------------------\u001b[0m",
      "\u001b[0;31mKeyboardInterrupt\u001b[0m                         Traceback (most recent call last)",
      "\u001b[0;32m/var/folders/4b/ktzlv7s51cj18fqc3hscsqz80000gn/T/ipykernel_6279/2879615915.py\u001b[0m in \u001b[0;36m<module>\u001b[0;34m\u001b[0m\n\u001b[1;32m     10\u001b[0m     \u001b[0mprint\u001b[0m\u001b[0;34m(\u001b[0m\u001b[0;34mf\"+{str(time.time() - start)[:5]} > +{hunter.volume['AUD'] - AUD[-1]}\"\u001b[0m\u001b[0;34m,\u001b[0m \u001b[0;34m\"total:\"\u001b[0m\u001b[0;34m,\u001b[0m \u001b[0mhunter\u001b[0m\u001b[0;34m.\u001b[0m\u001b[0mvolume\u001b[0m\u001b[0;34m[\u001b[0m\u001b[0;34m'AUD'\u001b[0m\u001b[0;34m]\u001b[0m\u001b[0;34m)\u001b[0m\u001b[0;34m\u001b[0m\u001b[0;34m\u001b[0m\u001b[0m\n\u001b[1;32m     11\u001b[0m     \u001b[0mAUD\u001b[0m\u001b[0;34m.\u001b[0m\u001b[0mappend\u001b[0m\u001b[0;34m(\u001b[0m\u001b[0mhunter\u001b[0m\u001b[0;34m.\u001b[0m\u001b[0mvolume\u001b[0m\u001b[0;34m[\u001b[0m\u001b[0;34m'AUD'\u001b[0m\u001b[0;34m]\u001b[0m\u001b[0;34m)\u001b[0m\u001b[0;34m\u001b[0m\u001b[0;34m\u001b[0m\u001b[0m\n\u001b[0;32m---> 12\u001b[0;31m     \u001b[0mtime\u001b[0m\u001b[0;34m.\u001b[0m\u001b[0msleep\u001b[0m\u001b[0;34m(\u001b[0m\u001b[0;36m60\u001b[0m\u001b[0;34m)\u001b[0m\u001b[0;34m\u001b[0m\u001b[0;34m\u001b[0m\u001b[0m\n\u001b[0m",
      "\u001b[0;31mKeyboardInterrupt\u001b[0m: "
     ]
    }
   ],
   "source": [
    "\n",
    "AUD = [1000]\n",
    "hunter = trader(\"hunter\", [\"AUD\", \"BTC\", \"ETH\", \"USD\"], 'AUD', AUD[0])\n",
    "hunter.set_key(uni)\n",
    "\n",
    "start = time.time()\n",
    "print(time.strftime(\"%H:%M:%S\"), \"> initial investment (AUD):\", AUD[0])\n",
    "\n",
    "while True:\n",
    "    hunter.trade()\n",
    "    print(f\"+{str(time.time() - start)[:5]} > +{hunter.volume['AUD'] - AUD[-1]}\", \"total:\", hunter.volume['AUD'])\n",
    "    AUD.append(hunter.volume['AUD'])\n",
    "    time.sleep(60)"
   ]
  },
  {
   "cell_type": "code",
   "execution_count": null,
   "metadata": {},
   "outputs": [],
   "source": [
    "# big man..."
   ]
  }
 ],
 "metadata": {
  "kernelspec": {
   "display_name": "Python 3.9.7 64-bit",
   "language": "python",
   "name": "python3"
  },
  "language_info": {
   "codemirror_mode": {
    "name": "ipython",
    "version": 3
   },
   "file_extension": ".py",
   "mimetype": "text/x-python",
   "name": "python",
   "nbconvert_exporter": "python",
   "pygments_lexer": "ipython3",
   "version": "3.9.7"
  },
  "orig_nbformat": 4,
  "vscode": {
   "interpreter": {
    "hash": "aee8b7b246df8f9039afb4144a1f6fd8d2ca17a180786b69acc140d282b71a49"
   }
  }
 },
 "nbformat": 4,
 "nbformat_minor": 2
}
