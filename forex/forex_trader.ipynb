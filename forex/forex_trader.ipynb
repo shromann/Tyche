{
 "cells": [
  {
   "cell_type": "code",
   "execution_count": 56,
   "metadata": {},
   "outputs": [],
   "source": [
    "import requests\n",
    "import numpy as np\n",
    "from math import log, exp\n",
    "from scipy.optimize import linear_sum_assignment\n",
    "import time"
   ]
  },
  {
   "cell_type": "code",
   "execution_count": 57,
   "metadata": {},
   "outputs": [],
   "source": [
    "url = \"https://api.twelvedata.com/price\"\n",
    "\n",
    "def get_price(curr1, curr2, key):\n",
    "    if curr1 == curr2:\n",
    "        return 1\n",
    "    else:\n",
    "        try:\n",
    "            resp = requests.request(\"GET\", url=f\"{url}?symbol={curr1}/{curr2}&amount=100&apikey={key}\").json()['price']\n",
    "            return float(resp)\n",
    "        except:\n",
    "            resp = requests.request(\"GET\", url=f\"{url}?symbol={curr2}/{curr1}&amount=100&apikey={key}\").json()['price']\n",
    "            return 1/float(resp)"
   ]
  },
  {
   "cell_type": "code",
   "execution_count": 58,
   "metadata": {},
   "outputs": [],
   "source": [
    "class trader:\n",
    "    def __init__(self, name, curr, home_curr, start_amount):\n",
    "        self.name = name\n",
    "        self.last_roi = 0\n",
    "        self.curr = np.array(curr)\n",
    "        self.volume = self.make_volume(home_curr, start_amount)\n",
    "        self.fees = 0\n",
    "\n",
    "    def make_volume(self, home_curr, start_amount):\n",
    "        volume = dict()\n",
    "        for c in self.curr:\n",
    "            volume[c] = 0\n",
    "        volume[home_curr] = start_amount\n",
    "        return volume\n",
    "    \n",
    "    def get_M(self):\n",
    "\n",
    "        self.P = np.matrix([[0.0 for _ in self.curr]for _ in self.curr], dtype=float)\n",
    "        self.M = np.matrix([[0.0 for _ in self.curr]for _ in self.curr], dtype=float)\n",
    "        C = np.matrix([[False for _ in self.curr]for _ in self.curr], dtype=bool)\n",
    "\n",
    "        for r, curr1 in enumerate(self.curr):\n",
    "            for c, curr2 in enumerate(self.curr):\n",
    "                if C[r, c] == False:\n",
    "                    p = get_price(curr1, curr2, self.key)\n",
    "                    if p != 0:\n",
    "                        self.P[r, c] = float(p) \n",
    "                        self.P[c, r] = float(1/p)\n",
    "                        self.M[r, c] = log(float(p))\n",
    "                        self.M[c, r] = log(float(1/p))\n",
    "                    else:\n",
    "                        self.P[r, c] = 1\n",
    "                        self.P[c, r] = 1\n",
    "                        self.M[r, c] = 0.0\n",
    "                        self.M[c, r] = 0.0\n",
    "                    C[r, c] = C[c, r] = True  \n",
    "\n",
    "        return self.M\n",
    "\n",
    "    def set_key(self, key):\n",
    "        self.key = key\n",
    "\n",
    "    def trade(self):\n",
    "        self.get_M()\n",
    "        row_ind, col_ind = linear_sum_assignment(self.M, maximize=True)\n",
    "        \n",
    "        self.last_roi = exp(self.M[row_ind, col_ind].sum())\n",
    "        \n",
    "        if self.last_roi > 1 + self.fees:\n",
    "            child = {k:v for k,v in zip(row_ind, col_ind)}\n",
    "\n",
    "            visited = set()\n",
    "            self.orders(child, visited)\n",
    "\n",
    "    \n",
    "    def orders(self, child, visited, p = 0):\n",
    "        if p not in visited:\n",
    "            visited.add(p)\n",
    "\n",
    "            print(f\"{self.curr[p]}: {self.volume[self.curr[p]]}\", end = \" -> \")\n",
    "\n",
    "            self.volume[self.curr[child[p]]] += self.volume[self.curr[p]] * self.P[p, child[p]]\n",
    "            self.volume[self.curr[p]] = 0\n",
    "\n",
    "            print(f\"{self.curr[child[p]]}: {self.volume[self.curr[child[p]]]}\", end=\" \")\n",
    "\n",
    "            self.orders(child, visited, child[p])\n",
    "        return\n",
    "\n"
   ]
  },
  {
   "cell_type": "code",
   "execution_count": 59,
   "metadata": {},
   "outputs": [
    {
     "name": "stdout",
     "output_type": "stream",
     "text": [
      "USD: 1000 -> BTC: 26118300.0 BTC: 26118300.0 -> ETH: 493897053.0 ETH: 493897053.0 -> INR: 53402124958572.0 INR: 53402124958572.0 -> USD: 682926555815.7963 \n",
      "1th Trade: 682926555815.7963\n",
      "[[  0.          10.1703915    7.22838845   4.3592185 ]\n",
      " [-10.1703915    0.           2.93969088  14.52935457]\n",
      " [ -7.22838845  -2.93969088   0.          11.591034  ]\n",
      " [ -4.3592185  -14.52935457 -11.591034     0.        ]]\n"
     ]
    },
    {
     "ename": "KeyboardInterrupt",
     "evalue": "",
     "output_type": "error",
     "traceback": [
      "\u001b[0;31m---------------------------------------------------------------------------\u001b[0m",
      "\u001b[0;31mKeyboardInterrupt\u001b[0m                         Traceback (most recent call last)",
      "\u001b[0;32m/var/folders/4b/ktzlv7s51cj18fqc3hscsqz80000gn/T/ipykernel_6279/600606573.py\u001b[0m in \u001b[0;36m<module>\u001b[0;34m\u001b[0m\n\u001b[1;32m     11\u001b[0m     \u001b[0mprint\u001b[0m\u001b[0;34m(\u001b[0m\u001b[0mhunter\u001b[0m\u001b[0;34m.\u001b[0m\u001b[0mM\u001b[0m\u001b[0;34m)\u001b[0m\u001b[0;34m\u001b[0m\u001b[0;34m\u001b[0m\u001b[0m\n\u001b[1;32m     12\u001b[0m     \u001b[0mi\u001b[0m \u001b[0;34m+=\u001b[0m \u001b[0;36m1\u001b[0m\u001b[0;34m\u001b[0m\u001b[0;34m\u001b[0m\u001b[0m\n\u001b[0;32m---> 13\u001b[0;31m     \u001b[0mtime\u001b[0m\u001b[0;34m.\u001b[0m\u001b[0msleep\u001b[0m\u001b[0;34m(\u001b[0m\u001b[0;36m60\u001b[0m\u001b[0;34m)\u001b[0m\u001b[0;34m\u001b[0m\u001b[0;34m\u001b[0m\u001b[0m\n\u001b[0m",
      "\u001b[0;31mKeyboardInterrupt\u001b[0m: "
     ]
    }
   ],
   "source": [
    "personal = \"ef3e1be5126a41c0a9d98b02f4a7ce38\"\n",
    "uni = \"b86172a213a240fca42701a5e89e0dbe\"\n",
    "\n",
    "hunter = trader(\"hunter\", [\"USD\", \"BTC\", \"ETH\", \"INR\"], 'USD', 1000)\n",
    "hunter.set_key(personal)\n",
    "\n",
    "i = 1\n",
    "while True:\n",
    "    hunter.trade()\n",
    "    print(f'\\n{i}th Trade:', hunter.volume['USD'])\n",
    "    print(hunter.M)\n",
    "    i += 1\n",
    "    time.sleep(60)"
   ]
  },
  {
   "cell_type": "code",
   "execution_count": null,
   "metadata": {},
   "outputs": [],
   "source": [
    "# Initial AUD: 1000\n",
    "# 1th Trade AUD: 1000.5659519774588\n",
    "# 2th Trade AUD: 1001.0934585700752\n",
    "# 3th Trade AUD: 1001.6030933464374\n",
    "# 4th Trade AUD: 1002.1129875667135\n",
    "# 5th Trade AUD: 1002.623141362981\n",
    "# 6th Trade AUD: 1003.0787313365812\n",
    "# 7th Trade AUD: 1003.3897763583743\n",
    "# 8th Trade AUD: 1003.790647619748\n",
    "# 9th Trade AUD: 1005.233792049702\n",
    "# 10th Trade AUD: 1005.7367672640555\n",
    "# 11th Trade AUD: 1007.1020607377999\n",
    "# 12th Trade AUD: 1007.5750680037745\n",
    "# 13th Trade AUD: 1008.0546994439111\n",
    "# 14th Trade AUD: 1008.6216758181641\n",
    "# 15th Trade AUD: 1009.377829920072\n",
    "# 16th Trade AUD: 1009.9993167668223\n",
    "# 17th Trade AUD: 1010.8830806181251\n",
    "# 18th Trade AUD: 1011.8841607251356\n",
    "# 19th Trade AUD: 1012.7258338835934\n",
    "# 20th Trade AUD: 1013.3931395792628\n",
    "# 21th Trade AUD: 1014.2218447599173\n",
    "# 22th Trade AUD: 1014.5917121249926\n",
    "# 23th Trade AUD: 1014.9324925467234"
   ]
  },
  {
   "cell_type": "code",
   "execution_count": null,
   "metadata": {},
   "outputs": [
    {
     "name": "stdout",
     "output_type": "stream",
     "text": [
      "None\n"
     ]
    }
   ],
   "source": [
    "print(get_price(\"USD\", \"BTC\", personal))"
   ]
  }
 ],
 "metadata": {
  "kernelspec": {
   "display_name": "Python 3.9.7 64-bit",
   "language": "python",
   "name": "python3"
  },
  "language_info": {
   "codemirror_mode": {
    "name": "ipython",
    "version": 3
   },
   "file_extension": ".py",
   "mimetype": "text/x-python",
   "name": "python",
   "nbconvert_exporter": "python",
   "pygments_lexer": "ipython3",
   "version": "3.9.7"
  },
  "orig_nbformat": 4,
  "vscode": {
   "interpreter": {
    "hash": "aee8b7b246df8f9039afb4144a1f6fd8d2ca17a180786b69acc140d282b71a49"
   }
  }
 },
 "nbformat": 4,
 "nbformat_minor": 2
}
