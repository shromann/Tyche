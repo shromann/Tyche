{
 "cells": [
  {
   "cell_type": "code",
   "execution_count": 224,
   "metadata": {},
   "outputs": [],
   "source": [
    "import requests\n",
    "import numpy as np\n",
    "from math import log, exp\n",
    "from scipy.optimize import linear_sum_assignment\n",
    "import time"
   ]
  },
  {
   "cell_type": "code",
   "execution_count": 225,
   "metadata": {},
   "outputs": [],
   "source": [
    "headers = {\n",
    "        \"X-RapidAPI-Key\": \"646b47ee09mshb839bd4c8a546a0p121e42jsn90bf68a43620\",\n",
    "        \"X-RapidAPI-Host\": \"twelve-data1.p.rapidapi.com\"\n",
    "    }\n",
    "\n",
    "url = \"https://twelve-data1.p.rapidapi.com/price\"\n",
    "\n",
    "def get_price(curr1, curr2):\n",
    "    if curr1 == curr2:\n",
    "        return 1\n",
    "    else:\n",
    "        try:\n",
    "            return float(eval(requests.request(\"GET\", url, headers=headers, params={\"symbol\":f\"{curr1}/{curr2}\",\"format\":\"json\",\"outputsize\":\"30\"}).text)['price'])\n",
    "        except KeyError:\n",
    "            return 0"
   ]
  },
  {
   "cell_type": "code",
   "execution_count": 226,
   "metadata": {},
   "outputs": [],
   "source": [
    "def forex_trade(curr = np.array(['AUD', 'CHF', 'EUR', 'JPY'])):\n",
    "\n",
    "    M = np.matrix([[0.0 for _ in curr]for _ in curr], dtype=float)\n",
    "    C = np.matrix([[False for _ in curr]for _ in curr], dtype=bool)\n",
    "\n",
    "    for r, curr1 in enumerate(curr):\n",
    "        for c, curr2 in enumerate(curr):\n",
    "            if C[r, c] == False:\n",
    "                p = get_price(curr1, curr2)\n",
    "                if p != 0:\n",
    "                    M[r, c] = log(float(p))\n",
    "                    M[c, r] = log(float(1/p))\n",
    "                else:\n",
    "                    M[r, c] = 0.0\n",
    "                    M[c, r] = 0.0\n",
    "                C[r, c] = C[c, r] = True\n",
    "        \n",
    "    \n",
    "    row_ind, col_ind = linear_sum_assignment(M, maximize=True)\n",
    "\n",
    "    return M, row_ind, col_ind"
   ]
  },
  {
   "cell_type": "code",
   "execution_count": 218,
   "metadata": {},
   "outputs": [
    {
     "ename": "KeyboardInterrupt",
     "evalue": "",
     "output_type": "error",
     "traceback": [
      "\u001b[0;31m---------------------------------------------------------------------------\u001b[0m",
      "\u001b[0;31mKeyboardInterrupt\u001b[0m                         Traceback (most recent call last)",
      "\u001b[0;32m/var/folders/4b/ktzlv7s51cj18fqc3hscsqz80000gn/T/ipykernel_7698/2152267312.py\u001b[0m in \u001b[0;36m<module>\u001b[0;34m\u001b[0m\n\u001b[1;32m      4\u001b[0m \u001b[0;32mwhile\u001b[0m \u001b[0;32mTrue\u001b[0m\u001b[0;34m:\u001b[0m\u001b[0;34m\u001b[0m\u001b[0;34m\u001b[0m\u001b[0m\n\u001b[1;32m      5\u001b[0m     \u001b[0mratio_track\u001b[0m\u001b[0;34m.\u001b[0m\u001b[0mappend\u001b[0m\u001b[0;34m(\u001b[0m\u001b[0mforex_trade\u001b[0m\u001b[0;34m(\u001b[0m\u001b[0;34m)\u001b[0m\u001b[0;34m)\u001b[0m\u001b[0;34m\u001b[0m\u001b[0;34m\u001b[0m\u001b[0m\n\u001b[0;32m----> 6\u001b[0;31m     \u001b[0mtime\u001b[0m\u001b[0;34m.\u001b[0m\u001b[0msleep\u001b[0m\u001b[0;34m(\u001b[0m\u001b[0;36m32\u001b[0m\u001b[0;34m)\u001b[0m\u001b[0;34m\u001b[0m\u001b[0;34m\u001b[0m\u001b[0m\n\u001b[0m",
      "\u001b[0;31mKeyboardInterrupt\u001b[0m: "
     ]
    }
   ],
   "source": [
    "ratio_track = []\n",
    "\n",
    "while True:\n",
    "    ratio_track.append(forex_trade())\n",
    "    time.sleep(32)"
   ]
  },
  {
   "cell_type": "code",
   "execution_count": 219,
   "metadata": {},
   "outputs": [],
   "source": [
    "M, row_ind, col_ind = forex_trade()"
   ]
  },
  {
   "cell_type": "code",
   "execution_count": 220,
   "metadata": {},
   "outputs": [
    {
     "data": {
      "text/plain": [
       "matrix([[ 0.        , -0.36201776, -0.39988073,  0.        ],\n",
       "        [ 0.36201776,  0.        ,  0.        ,  0.        ],\n",
       "        [ 0.39988073,  0.        ,  0.        ,  0.        ],\n",
       "        [ 0.        ,  0.        ,  0.        ,  0.        ]])"
      ]
     },
     "execution_count": 220,
     "metadata": {},
     "output_type": "execute_result"
    }
   ],
   "source": [
    "M"
   ]
  },
  {
   "cell_type": "code",
   "execution_count": 221,
   "metadata": {},
   "outputs": [
    {
     "data": {
      "text/plain": [
       "0"
      ]
     },
     "execution_count": 221,
     "metadata": {},
     "output_type": "execute_result"
    }
   ],
   "source": [
    "get_price('AUD', 'CHF')"
   ]
  },
  {
   "cell_type": "code",
   "execution_count": 223,
   "metadata": {},
   "outputs": [
    {
     "data": {
      "text/plain": [
       "-0.001425612187942349"
      ]
     },
     "execution_count": 223,
     "metadata": {},
     "output_type": "execute_result"
    }
   ],
   "source": [
    "M, row_ind, col_ind = ratio_track[0]\n",
    "M[row_ind, col_ind].sum()"
   ]
  }
 ],
 "metadata": {
  "kernelspec": {
   "display_name": "Python 3.9.7 64-bit",
   "language": "python",
   "name": "python3"
  },
  "language_info": {
   "codemirror_mode": {
    "name": "ipython",
    "version": 3
   },
   "file_extension": ".py",
   "mimetype": "text/x-python",
   "name": "python",
   "nbconvert_exporter": "python",
   "pygments_lexer": "ipython3",
   "version": "3.9.7"
  },
  "orig_nbformat": 4,
  "vscode": {
   "interpreter": {
    "hash": "aee8b7b246df8f9039afb4144a1f6fd8d2ca17a180786b69acc140d282b71a49"
   }
  }
 },
 "nbformat": 4,
 "nbformat_minor": 2
}
